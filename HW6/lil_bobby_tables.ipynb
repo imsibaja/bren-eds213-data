{
 "cells": [
  {
   "cell_type": "markdown",
   "id": "19d3ddd2",
   "metadata": {},
   "source": [
    "# Week 6 - Little Bobby Tables\n",
    "\n",
    "In class we discussed how to parameterize a query and then insert values for the parameter(s):\n",
    "\n",
    "```\n",
    "query_template = \"SELECT ... WHERE Species = ? AND ageMethod = ?\"\n",
    "species = \"wolv\"\n",
    "age_method = \"float\"\n",
    "cur.execute(query_template, [species, age_method])\n",
    "```\n",
    "\n",
    "The bare question marks in the template are placeholders. The database driver substitutes the supplied parameter values before submitting to the database, appropriately adding any quoting and character escaping as necessary.\n",
    "\n",
    "You may decide you want to use your own Python string substitution instead:\n",
    "\n",
    "```\n",
    "query_template = \"SELECT ... WHERE Species = '%s' AND ageMethod = '%s'\"\n",
    "species = \"wolv\"\n",
    "age_method = \"float\"\n",
    "cur.execute(query_template % (species, age_method))\n",
    "```\n",
    "\n",
    "Before you do that, recognize that this practice continues to this day to be a major source of security exploits. To understand why, view this classic XKCD cartoon:\n",
    "\n"
   ]
  },
  {
   "cell_type": "markdown",
   "id": "ceaa0ceb",
   "metadata": {},
   "source": [
    "![image.png](exploits_of_a_mom_2x.png)"
   ]
  },
  {
   "cell_type": "markdown",
   "id": "fb7d1cb9",
   "metadata": {},
   "source": [
    "To interpret the above, you may assume that at some point the school’s system performs the query\n",
    "\n",
    "```\n",
    "SELECT *\n",
    "    FROM Students\n",
    "    WHERE (name = '%s' AND ...);\n",
    "```\n",
    "\n",
    "where a student’s name, as input by a user of the system, is directly substituted for the %s.\n",
    "\n",
    "## Part 1\n",
    "Explain exactly how Little Bobby Tables’ “name” can cause a catastrophe. Explain why his name has two hyphens (--) at the end.\n",
    "\n",
    "*Bobby Tables last 2 characters are two hyphens, which is a comment in SQL. After his name is called, SQL will Drop the table Students, close the current statement, then ignore the rest of the query which may cause some sort of error. The result is that the table Students will be deleted from the database.*\n",
    "\n",
    "## Part 2\n",
    "Suppose instead the school system executed the query\n",
    "\n",
    "```\n",
    "SELECT *\n",
    "    FROM Students WHERE name = '%s';\n",
    "```\n",
    "What “name” would Little Bobby Tables use to destroy things in that case?\n",
    "\n",
    "*This time the name ```'; DROP TABLE Students;--``` would be used. The first closes the string, then again we are dropping the table Students.\n",
    "\n",
    "Credit: 15 points\n",
    "\n",
    "Bonus problem!\n",
    "Hack your bird database! Let’s imagine that your Shiny application, in response to user input, executes the query\n",
    "```\n",
    "SELECT * FROM Species WHERE Code = '%s';\n",
    "```\n",
    "\n",
    "where a species code (supplied by the application user) is directly substituted for the query’s %s using Python interpolation. For example, an innocent user might input “wolv”. Craft an input that a devious user could use to:\n",
    "\n",
    "Add Taylor Swift to the Personnel table\n",
    "Yet still return the results of the query SELECT * FROM Species WHERE Code = 'wolv' (devious!)"
   ]
  }
 ],
 "metadata": {
  "language_info": {
   "name": "python"
  }
 },
 "nbformat": 4,
 "nbformat_minor": 5
}
