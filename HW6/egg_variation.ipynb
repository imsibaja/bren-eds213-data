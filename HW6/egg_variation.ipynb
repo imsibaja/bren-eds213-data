{
 "cells": [
  {
   "cell_type": "markdown",
   "id": "e773d5c5",
   "metadata": {},
   "source": [
    "# Week 6 - Characterizing egg variation\n",
    "You read Egg Dimensions and Neonatal Mass of Shorebirds by Robert E. Ricklefs and want to see how the egg data we’ve been using in class compares to his results. Specifically, Ricklefs reported, “Coefficients of variation were 4 to 9% for egg volume” for shorebird eggs gathered in Manitoba, Canada. What is the range of coefficients of variation in our ASDN dataset?\n",
    "\n",
    "The “coefficient of variation,” or CV, is a unitless measure of the variation of a sample, defined as the standard deviation divided by the mean and multiplied by 100 to express as a percentage. Thus, a CV of 10% means the standard deviation is 10% of the mean value. For the purposes of this computation, we will copy Ricklefs and use as a proxy for egg volume the formula\n",
    "\n",
    "```W^2*L```\n",
    "\n",
    "where \n",
    " ```W``` is egg width and \n",
    " ```L``` is egg length.\n",
    "\n",
    "Your task is to create a Python program that reads data from the ASDN database and uses Pandas to compute, for each species in the database (for which there is egg data), the coefficient of variation of volume using the above formula. There are many ways this can be done. Because this assignment is primarily about programming in Python, please follow the steps below. Please submit your Python code when done."
   ]
  },
  {
   "cell_type": "code",
   "execution_count": 67,
   "id": "b2e5e48f",
   "metadata": {},
   "outputs": [],
   "source": [
    "import duckdb\n",
    "import pandas as pd\n",
    "import os"
   ]
  },
  {
   "cell_type": "markdown",
   "id": "6b8bd841",
   "metadata": {},
   "source": [
    "## Step 1\n",
    "Create a query that will return the distinct species for which there is egg data (not all species and not all nests have egg data), so that you can then loop over those species. Your query should return two columns, species code and scientific name. Please order the results in alphabetic order of scientific name."
   ]
  },
  {
   "cell_type": "code",
   "execution_count": 68,
   "id": "b3707226",
   "metadata": {},
   "outputs": [
    {
     "data": {
      "text/plain": [
       "'/Users/ims/MEDS/eds213-data/bren-eds213-data/database'"
      ]
     },
     "execution_count": 68,
     "metadata": {},
     "output_type": "execute_result"
    }
   ],
   "source": [
    "os.chdir(\"/Users/ims//MEDS/eds213-data/bren-eds213-data/database\")\n",
    "os.getcwd()"
   ]
  },
  {
   "cell_type": "code",
   "execution_count": 70,
   "id": "2ea12109",
   "metadata": {},
   "outputs": [],
   "source": [
    "conn = duckdb.connect('database.db')\n",
    "c = conn.cursor()\n"
   ]
  },
  {
   "cell_type": "code",
   "execution_count": 71,
   "id": "6d42f8b4",
   "metadata": {},
   "outputs": [],
   "source": [
    "distinct_egg_species = c.execute(\n",
    "    '''\n",
    "    SELECT DISTINCT Species.Code AS species_code, \n",
    "                    Species.Scientific_name AS \"scientific name\"\n",
    "    FROM Bird_eggs \n",
    "    JOIN Bird_nests \n",
    "        ON Bird_eggs.Nest_ID = Bird_nests.Nest_ID\n",
    "    JOIN Species \n",
    "        ON Bird_nests.Species = Species.Code\n",
    "    ORDER BY Species.Scientific_name;           \n",
    "    '''\n",
    "    ).fetch_df()"
   ]
  },
  {
   "cell_type": "code",
   "execution_count": 72,
   "id": "93b22187",
   "metadata": {},
   "outputs": [
    {
     "data": {
      "application/vnd.microsoft.datawrangler.viewer.v0+json": {
       "columns": [
        {
         "name": "index",
         "rawType": "int64",
         "type": "integer"
        },
        {
         "name": "species_code",
         "rawType": "object",
         "type": "string"
        },
        {
         "name": "scientific name",
         "rawType": "object",
         "type": "string"
        }
       ],
       "conversionMethod": "pd.DataFrame",
       "ref": "76ac8ba5-4492-442a-bdae-952018078fff",
       "rows": [
        [
         "0",
         "rutu",
         "Arenaria interpres"
        ],
        [
         "1",
         "dunl",
         "Calidris alpina"
        ],
        [
         "2",
         "wrsa",
         "Calidris fuscicollis"
        ],
        [
         "3",
         "sepl",
         "Charadrius semipalmatus"
        ],
        [
         "4",
         "reph",
         "Phalaropus fulicarius"
        ],
        [
         "5",
         "amgp",
         "Pluvialis dominica"
        ],
        [
         "6",
         "bbpl",
         "Pluvialis squatarola"
        ]
       ],
       "shape": {
        "columns": 2,
        "rows": 7
       }
      },
      "text/html": [
       "<div>\n",
       "<style scoped>\n",
       "    .dataframe tbody tr th:only-of-type {\n",
       "        vertical-align: middle;\n",
       "    }\n",
       "\n",
       "    .dataframe tbody tr th {\n",
       "        vertical-align: top;\n",
       "    }\n",
       "\n",
       "    .dataframe thead th {\n",
       "        text-align: right;\n",
       "    }\n",
       "</style>\n",
       "<table border=\"1\" class=\"dataframe\">\n",
       "  <thead>\n",
       "    <tr style=\"text-align: right;\">\n",
       "      <th></th>\n",
       "      <th>species_code</th>\n",
       "      <th>scientific name</th>\n",
       "    </tr>\n",
       "  </thead>\n",
       "  <tbody>\n",
       "    <tr>\n",
       "      <th>0</th>\n",
       "      <td>rutu</td>\n",
       "      <td>Arenaria interpres</td>\n",
       "    </tr>\n",
       "    <tr>\n",
       "      <th>1</th>\n",
       "      <td>dunl</td>\n",
       "      <td>Calidris alpina</td>\n",
       "    </tr>\n",
       "    <tr>\n",
       "      <th>2</th>\n",
       "      <td>wrsa</td>\n",
       "      <td>Calidris fuscicollis</td>\n",
       "    </tr>\n",
       "    <tr>\n",
       "      <th>3</th>\n",
       "      <td>sepl</td>\n",
       "      <td>Charadrius semipalmatus</td>\n",
       "    </tr>\n",
       "    <tr>\n",
       "      <th>4</th>\n",
       "      <td>reph</td>\n",
       "      <td>Phalaropus fulicarius</td>\n",
       "    </tr>\n",
       "    <tr>\n",
       "      <th>5</th>\n",
       "      <td>amgp</td>\n",
       "      <td>Pluvialis dominica</td>\n",
       "    </tr>\n",
       "    <tr>\n",
       "      <th>6</th>\n",
       "      <td>bbpl</td>\n",
       "      <td>Pluvialis squatarola</td>\n",
       "    </tr>\n",
       "  </tbody>\n",
       "</table>\n",
       "</div>"
      ],
      "text/plain": [
       "  species_code          scientific name\n",
       "0         rutu       Arenaria interpres\n",
       "1         dunl          Calidris alpina\n",
       "2         wrsa     Calidris fuscicollis\n",
       "3         sepl  Charadrius semipalmatus\n",
       "4         reph    Phalaropus fulicarius\n",
       "5         amgp       Pluvialis dominica\n",
       "6         bbpl     Pluvialis squatarola"
      ]
     },
     "execution_count": 72,
     "metadata": {},
     "output_type": "execute_result"
    }
   ],
   "source": [
    "distinct_egg_species"
   ]
  },
  {
   "cell_type": "markdown",
   "id": "f70bb0ff",
   "metadata": {},
   "source": [
    "## Step 2\n",
    "After you’ve connected to the database and created a csor c, iterate over the species like so:\n",
    "\n",
    "```\n",
    "species_query = \"\"\"SELECT Code, Scientific_name FROM...\"\"\"\n",
    "for row in c.execute(species_query).fetchall():  # DuckDB lame-o workaround\n",
    "    species_code = row[0]\n",
    "    scientific_name = row[1]\n",
    "    # query egg data for that species (step 3)\n",
    "    # compute statistics and print results (step 4)\n",
    "```"
   ]
  },
  {
   "cell_type": "code",
   "execution_count": 74,
   "id": "dc4ab1c9",
   "metadata": {},
   "outputs": [
    {
     "name": "stdout",
     "output_type": "stream",
     "text": [
      "Species Code: rutu, Scientific Name: Arenaria interpres\n",
      "Species Code: dunl, Scientific Name: Calidris alpina\n",
      "Species Code: wrsa, Scientific Name: Calidris fuscicollis\n",
      "Species Code: sepl, Scientific Name: Charadrius semipalmatus\n",
      "Species Code: reph, Scientific Name: Phalaropus fulicarius\n",
      "Species Code: amgp, Scientific Name: Pluvialis dominica\n",
      "Species Code: bbpl, Scientific Name: Pluvialis squatarola\n"
     ]
    }
   ],
   "source": [
    "species_query = \"\"\"\n",
    "    SELECT DISTINCT Species.Code AS species_code, \n",
    "                    Species.Scientific_name AS \"scientific name\"\n",
    "    FROM Bird_eggs \n",
    "    JOIN Bird_nests \n",
    "        USING (Nest_ID)\n",
    "    JOIN Species \n",
    "        ON Bird_nests.Species = Species.Code\n",
    "    ORDER BY Species.Scientific_name;          \n",
    "\"\"\"\n",
    "    \n",
    "\n",
    "    \n",
    "for row in c.execute(species_query).fetchall():\n",
    "    species_code = row[0]\n",
    "    scientific_name = row[1]\n",
    "    \n",
    "    print(f\"Species Code: {species_code}, Scientific Name: {scientific_name}\")"
   ]
  },
  {
   "cell_type": "markdown",
   "id": "c108204d",
   "metadata": {},
   "source": [
    "## Step 3\n",
    "You will need to construct a query that gathers egg data for a given species, one species at a time; the species code will be a parameter to that query. You can compute the formula\n",
    "\n",
    "```W^2*L```\n",
    "\n",
    "in SQL or in Pandas. For simplicity, SQL is suggested:\n",
    "\n",
    "```egg_query = \"\"\"SELECT Width*Width*Length AS Volume FROM...\"\"\"```\n",
    "\n",
    "Within the loop, you will want to execute the query on the crent species in the loop iteration. You may use the Pandas function pd.read_sql to do so and also directly load the results into a dataframe:\n",
    "\n",
    "```df = pd.read_sql(egg_query, conn, ...)```\n",
    "\n",
    "Do a help(pd.read_sql) to figure out how to pass parameters to a query.\n",
    "\n",
    "You may get a bunch of warnings from Pandas about how it “only supports SQLAlchemy…”. Just ignore them. (Sorry about that.)"
   ]
  },
  {
   "cell_type": "code",
   "execution_count": 75,
   "id": "2bf6d7f2",
   "metadata": {},
   "outputs": [
    {
     "data": {
      "application/vnd.microsoft.datawrangler.viewer.v0+json": {
       "columns": [
        {
         "name": "index",
         "rawType": "int64",
         "type": "integer"
        },
        {
         "name": "Species",
         "rawType": "object",
         "type": "string"
        },
        {
         "name": "Egg_num",
         "rawType": "int32",
         "type": "integer"
        },
        {
         "name": "Length",
         "rawType": "float32",
         "type": "float"
        },
        {
         "name": "Width",
         "rawType": "float32",
         "type": "float"
        }
       ],
       "conversionMethod": "pd.DataFrame",
       "ref": "23c64245-d53d-4e7f-b656-333d7d194df4",
       "rows": [
        [
         "0",
         "bbpl",
         "1",
         "55.56",
         "35.5"
        ],
        [
         "1",
         "bbpl",
         "2",
         "53.67",
         "35.9"
        ],
        [
         "2",
         "bbpl",
         "3",
         "53.51",
         "35.95"
        ],
        [
         "3",
         "bbpl",
         "4",
         "52.37",
         "36.0"
        ],
        [
         "4",
         "bbpl",
         "1",
         "55.45",
         "35.1"
        ],
        [
         "5",
         "bbpl",
         "2",
         "55.92",
         "36.03"
        ],
        [
         "6",
         "bbpl",
         "3",
         "53.4",
         "36.1"
        ],
        [
         "7",
         "bbpl",
         "4",
         "52.07",
         "36.35"
        ],
        [
         "8",
         "bbpl",
         "1",
         "51.46",
         "34.65"
        ],
        [
         "9",
         "bbpl",
         "2",
         "50.14",
         "34.83"
        ],
        [
         "10",
         "bbpl",
         "3",
         "51.18",
         "35.32"
        ],
        [
         "11",
         "bbpl",
         "4",
         "49.81",
         "35.64"
        ],
        [
         "12",
         "bbpl",
         "1",
         "48.5",
         "35.0"
        ],
        [
         "13",
         "bbpl",
         "2",
         "50.0",
         "36.0"
        ],
        [
         "14",
         "bbpl",
         "3",
         "51.5",
         "36.0"
        ],
        [
         "15",
         "bbpl",
         "4",
         "52.5",
         "37.0"
        ],
        [
         "16",
         "bbpl",
         "1",
         "50.43",
         "35.62"
        ],
        [
         "17",
         "bbpl",
         "2",
         "48.3",
         "36.04"
        ],
        [
         "18",
         "bbpl",
         "3",
         "48.35",
         "36.14"
        ],
        [
         "19",
         "bbpl",
         "4",
         "49.2",
         "38.85"
        ],
        [
         "20",
         "bbpl",
         "1",
         "48.12",
         "35.11"
        ],
        [
         "21",
         "bbpl",
         "2",
         "47.3",
         "35.9"
        ],
        [
         "22",
         "bbpl",
         "3",
         "50.55",
         "36.41"
        ],
        [
         "23",
         "bbpl",
         "4",
         "48.58",
         "37.01"
        ],
        [
         "24",
         "bbpl",
         "1",
         "48.9",
         "34.2"
        ],
        [
         "25",
         "bbpl",
         "2",
         "48.83",
         "35.53"
        ],
        [
         "26",
         "bbpl",
         "3",
         "49.76",
         "35.58"
        ],
        [
         "27",
         "bbpl",
         "4",
         "49.53",
         "35.89"
        ],
        [
         "28",
         "bbpl",
         "1",
         "52.45",
         "34.72"
        ],
        [
         "29",
         "bbpl",
         "2",
         "50.34",
         "34.78"
        ],
        [
         "30",
         "bbpl",
         "3",
         "52.2",
         "34.78"
        ],
        [
         "31",
         "bbpl",
         "4",
         "50.68",
         "35.91"
        ],
        [
         "32",
         "bbpl",
         "1",
         "50.19",
         "33.51"
        ],
        [
         "33",
         "bbpl",
         "2",
         "50.94",
         "33.66"
        ],
        [
         "34",
         "bbpl",
         "3",
         "52.23",
         "35.56"
        ],
        [
         "35",
         "bbpl",
         "4",
         "54.58",
         "36.21"
        ]
       ],
       "shape": {
        "columns": 4,
        "rows": 36
       }
      },
      "text/html": [
       "<div>\n",
       "<style scoped>\n",
       "    .dataframe tbody tr th:only-of-type {\n",
       "        vertical-align: middle;\n",
       "    }\n",
       "\n",
       "    .dataframe tbody tr th {\n",
       "        vertical-align: top;\n",
       "    }\n",
       "\n",
       "    .dataframe thead th {\n",
       "        text-align: right;\n",
       "    }\n",
       "</style>\n",
       "<table border=\"1\" class=\"dataframe\">\n",
       "  <thead>\n",
       "    <tr style=\"text-align: right;\">\n",
       "      <th></th>\n",
       "      <th>Species</th>\n",
       "      <th>Egg_num</th>\n",
       "      <th>Length</th>\n",
       "      <th>Width</th>\n",
       "    </tr>\n",
       "  </thead>\n",
       "  <tbody>\n",
       "    <tr>\n",
       "      <th>0</th>\n",
       "      <td>bbpl</td>\n",
       "      <td>1</td>\n",
       "      <td>55.560001</td>\n",
       "      <td>35.500000</td>\n",
       "    </tr>\n",
       "    <tr>\n",
       "      <th>1</th>\n",
       "      <td>bbpl</td>\n",
       "      <td>2</td>\n",
       "      <td>53.669998</td>\n",
       "      <td>35.900002</td>\n",
       "    </tr>\n",
       "    <tr>\n",
       "      <th>2</th>\n",
       "      <td>bbpl</td>\n",
       "      <td>3</td>\n",
       "      <td>53.509998</td>\n",
       "      <td>35.950001</td>\n",
       "    </tr>\n",
       "    <tr>\n",
       "      <th>3</th>\n",
       "      <td>bbpl</td>\n",
       "      <td>4</td>\n",
       "      <td>52.369999</td>\n",
       "      <td>36.000000</td>\n",
       "    </tr>\n",
       "    <tr>\n",
       "      <th>4</th>\n",
       "      <td>bbpl</td>\n",
       "      <td>1</td>\n",
       "      <td>55.450001</td>\n",
       "      <td>35.099998</td>\n",
       "    </tr>\n",
       "    <tr>\n",
       "      <th>5</th>\n",
       "      <td>bbpl</td>\n",
       "      <td>2</td>\n",
       "      <td>55.919998</td>\n",
       "      <td>36.029999</td>\n",
       "    </tr>\n",
       "    <tr>\n",
       "      <th>6</th>\n",
       "      <td>bbpl</td>\n",
       "      <td>3</td>\n",
       "      <td>53.400002</td>\n",
       "      <td>36.099998</td>\n",
       "    </tr>\n",
       "    <tr>\n",
       "      <th>7</th>\n",
       "      <td>bbpl</td>\n",
       "      <td>4</td>\n",
       "      <td>52.070000</td>\n",
       "      <td>36.349998</td>\n",
       "    </tr>\n",
       "    <tr>\n",
       "      <th>8</th>\n",
       "      <td>bbpl</td>\n",
       "      <td>1</td>\n",
       "      <td>51.459999</td>\n",
       "      <td>34.650002</td>\n",
       "    </tr>\n",
       "    <tr>\n",
       "      <th>9</th>\n",
       "      <td>bbpl</td>\n",
       "      <td>2</td>\n",
       "      <td>50.139999</td>\n",
       "      <td>34.830002</td>\n",
       "    </tr>\n",
       "    <tr>\n",
       "      <th>10</th>\n",
       "      <td>bbpl</td>\n",
       "      <td>3</td>\n",
       "      <td>51.180000</td>\n",
       "      <td>35.320000</td>\n",
       "    </tr>\n",
       "    <tr>\n",
       "      <th>11</th>\n",
       "      <td>bbpl</td>\n",
       "      <td>4</td>\n",
       "      <td>49.810001</td>\n",
       "      <td>35.639999</td>\n",
       "    </tr>\n",
       "    <tr>\n",
       "      <th>12</th>\n",
       "      <td>bbpl</td>\n",
       "      <td>1</td>\n",
       "      <td>48.500000</td>\n",
       "      <td>35.000000</td>\n",
       "    </tr>\n",
       "    <tr>\n",
       "      <th>13</th>\n",
       "      <td>bbpl</td>\n",
       "      <td>2</td>\n",
       "      <td>50.000000</td>\n",
       "      <td>36.000000</td>\n",
       "    </tr>\n",
       "    <tr>\n",
       "      <th>14</th>\n",
       "      <td>bbpl</td>\n",
       "      <td>3</td>\n",
       "      <td>51.500000</td>\n",
       "      <td>36.000000</td>\n",
       "    </tr>\n",
       "    <tr>\n",
       "      <th>15</th>\n",
       "      <td>bbpl</td>\n",
       "      <td>4</td>\n",
       "      <td>52.500000</td>\n",
       "      <td>37.000000</td>\n",
       "    </tr>\n",
       "    <tr>\n",
       "      <th>16</th>\n",
       "      <td>bbpl</td>\n",
       "      <td>1</td>\n",
       "      <td>50.430000</td>\n",
       "      <td>35.619999</td>\n",
       "    </tr>\n",
       "    <tr>\n",
       "      <th>17</th>\n",
       "      <td>bbpl</td>\n",
       "      <td>2</td>\n",
       "      <td>48.299999</td>\n",
       "      <td>36.040001</td>\n",
       "    </tr>\n",
       "    <tr>\n",
       "      <th>18</th>\n",
       "      <td>bbpl</td>\n",
       "      <td>3</td>\n",
       "      <td>48.349998</td>\n",
       "      <td>36.139999</td>\n",
       "    </tr>\n",
       "    <tr>\n",
       "      <th>19</th>\n",
       "      <td>bbpl</td>\n",
       "      <td>4</td>\n",
       "      <td>49.200001</td>\n",
       "      <td>38.849998</td>\n",
       "    </tr>\n",
       "    <tr>\n",
       "      <th>20</th>\n",
       "      <td>bbpl</td>\n",
       "      <td>1</td>\n",
       "      <td>48.119999</td>\n",
       "      <td>35.110001</td>\n",
       "    </tr>\n",
       "    <tr>\n",
       "      <th>21</th>\n",
       "      <td>bbpl</td>\n",
       "      <td>2</td>\n",
       "      <td>47.299999</td>\n",
       "      <td>35.900002</td>\n",
       "    </tr>\n",
       "    <tr>\n",
       "      <th>22</th>\n",
       "      <td>bbpl</td>\n",
       "      <td>3</td>\n",
       "      <td>50.549999</td>\n",
       "      <td>36.410000</td>\n",
       "    </tr>\n",
       "    <tr>\n",
       "      <th>23</th>\n",
       "      <td>bbpl</td>\n",
       "      <td>4</td>\n",
       "      <td>48.580002</td>\n",
       "      <td>37.009998</td>\n",
       "    </tr>\n",
       "    <tr>\n",
       "      <th>24</th>\n",
       "      <td>bbpl</td>\n",
       "      <td>1</td>\n",
       "      <td>48.900002</td>\n",
       "      <td>34.200001</td>\n",
       "    </tr>\n",
       "    <tr>\n",
       "      <th>25</th>\n",
       "      <td>bbpl</td>\n",
       "      <td>2</td>\n",
       "      <td>48.830002</td>\n",
       "      <td>35.529999</td>\n",
       "    </tr>\n",
       "    <tr>\n",
       "      <th>26</th>\n",
       "      <td>bbpl</td>\n",
       "      <td>3</td>\n",
       "      <td>49.759998</td>\n",
       "      <td>35.580002</td>\n",
       "    </tr>\n",
       "    <tr>\n",
       "      <th>27</th>\n",
       "      <td>bbpl</td>\n",
       "      <td>4</td>\n",
       "      <td>49.529999</td>\n",
       "      <td>35.889999</td>\n",
       "    </tr>\n",
       "    <tr>\n",
       "      <th>28</th>\n",
       "      <td>bbpl</td>\n",
       "      <td>1</td>\n",
       "      <td>52.450001</td>\n",
       "      <td>34.720001</td>\n",
       "    </tr>\n",
       "    <tr>\n",
       "      <th>29</th>\n",
       "      <td>bbpl</td>\n",
       "      <td>2</td>\n",
       "      <td>50.340000</td>\n",
       "      <td>34.779999</td>\n",
       "    </tr>\n",
       "    <tr>\n",
       "      <th>30</th>\n",
       "      <td>bbpl</td>\n",
       "      <td>3</td>\n",
       "      <td>52.200001</td>\n",
       "      <td>34.779999</td>\n",
       "    </tr>\n",
       "    <tr>\n",
       "      <th>31</th>\n",
       "      <td>bbpl</td>\n",
       "      <td>4</td>\n",
       "      <td>50.680000</td>\n",
       "      <td>35.910000</td>\n",
       "    </tr>\n",
       "    <tr>\n",
       "      <th>32</th>\n",
       "      <td>bbpl</td>\n",
       "      <td>1</td>\n",
       "      <td>50.189999</td>\n",
       "      <td>33.509998</td>\n",
       "    </tr>\n",
       "    <tr>\n",
       "      <th>33</th>\n",
       "      <td>bbpl</td>\n",
       "      <td>2</td>\n",
       "      <td>50.939999</td>\n",
       "      <td>33.660000</td>\n",
       "    </tr>\n",
       "    <tr>\n",
       "      <th>34</th>\n",
       "      <td>bbpl</td>\n",
       "      <td>3</td>\n",
       "      <td>52.230000</td>\n",
       "      <td>35.560001</td>\n",
       "    </tr>\n",
       "    <tr>\n",
       "      <th>35</th>\n",
       "      <td>bbpl</td>\n",
       "      <td>4</td>\n",
       "      <td>54.580002</td>\n",
       "      <td>36.209999</td>\n",
       "    </tr>\n",
       "  </tbody>\n",
       "</table>\n",
       "</div>"
      ],
      "text/plain": [
       "   Species  Egg_num     Length      Width\n",
       "0     bbpl        1  55.560001  35.500000\n",
       "1     bbpl        2  53.669998  35.900002\n",
       "2     bbpl        3  53.509998  35.950001\n",
       "3     bbpl        4  52.369999  36.000000\n",
       "4     bbpl        1  55.450001  35.099998\n",
       "5     bbpl        2  55.919998  36.029999\n",
       "6     bbpl        3  53.400002  36.099998\n",
       "7     bbpl        4  52.070000  36.349998\n",
       "8     bbpl        1  51.459999  34.650002\n",
       "9     bbpl        2  50.139999  34.830002\n",
       "10    bbpl        3  51.180000  35.320000\n",
       "11    bbpl        4  49.810001  35.639999\n",
       "12    bbpl        1  48.500000  35.000000\n",
       "13    bbpl        2  50.000000  36.000000\n",
       "14    bbpl        3  51.500000  36.000000\n",
       "15    bbpl        4  52.500000  37.000000\n",
       "16    bbpl        1  50.430000  35.619999\n",
       "17    bbpl        2  48.299999  36.040001\n",
       "18    bbpl        3  48.349998  36.139999\n",
       "19    bbpl        4  49.200001  38.849998\n",
       "20    bbpl        1  48.119999  35.110001\n",
       "21    bbpl        2  47.299999  35.900002\n",
       "22    bbpl        3  50.549999  36.410000\n",
       "23    bbpl        4  48.580002  37.009998\n",
       "24    bbpl        1  48.900002  34.200001\n",
       "25    bbpl        2  48.830002  35.529999\n",
       "26    bbpl        3  49.759998  35.580002\n",
       "27    bbpl        4  49.529999  35.889999\n",
       "28    bbpl        1  52.450001  34.720001\n",
       "29    bbpl        2  50.340000  34.779999\n",
       "30    bbpl        3  52.200001  34.779999\n",
       "31    bbpl        4  50.680000  35.910000\n",
       "32    bbpl        1  50.189999  33.509998\n",
       "33    bbpl        2  50.939999  33.660000\n",
       "34    bbpl        3  52.230000  35.560001\n",
       "35    bbpl        4  54.580002  36.209999"
      ]
     },
     "execution_count": 75,
     "metadata": {},
     "output_type": "execute_result"
    }
   ],
   "source": [
    "    \n",
    "for row in c.execute(species_query).fetchall():\n",
    "    species_code = row[0]\n",
    "    scientific_name = row[1]\n",
    "\n",
    "    # Step 3: Query egg data for this species\n",
    "    egg_data_query = \"\"\"\n",
    "        SELECT Bird_nests.Species, Egg_num, Length, Width\n",
    "        FROM Bird_eggs\n",
    "        JOIN Bird_nests USING (Nest_ID)\n",
    "        WHERE Bird_nests.Species = ?\n",
    "    \"\"\"\n",
    "    \n",
    "    # Fetch egg data for this species\n",
    "    df = c.execute(egg_data_query, [species_code]).fetch_df()\n",
    "    \n",
    "df"
   ]
  },
  {
   "cell_type": "markdown",
   "id": "734d738c",
   "metadata": {},
   "source": [
    "## Step 4\n",
    "Finally, and still within your loop, you’ll want to compute statistics and print out the results:\n",
    "\n",
    "```\n",
    "cv = round(df.Volume.std()/df.Volume.mean()*100, 2)\n",
    "print(f\"{scientific_name} {cv}%\")\n",
    "```\n",
    "\n",
    "Your output should look like this:\n",
    "\n",
    "```\n",
    "Arenaria interpres 21.12%\n",
    "Calidris alpina 5.46%\n",
    "Calidris fuscicollis 16.77%\n",
    "Charadrius semipalmatus 8.99%\n",
    "Phalaropus fulicarius 4.65%\n",
    "Pluvialis dominica 19.88%\n",
    "Pluvialis squatarola 6.94%\n",
    "```"
   ]
  },
  {
   "cell_type": "code",
   "execution_count": 76,
   "id": "6adea9c4",
   "metadata": {},
   "outputs": [
    {
     "name": "stdout",
     "output_type": "stream",
     "text": [
      "Arenaria interpres 21.12%\n",
      "Calidris alpina 5.46%\n",
      "Calidris fuscicollis 16.77%\n",
      "Charadrius semipalmatus 8.99%\n",
      "Phalaropus fulicarius 4.65%\n",
      "Pluvialis dominica 19.88%\n",
      "Pluvialis squatarola 6.94%\n"
     ]
    }
   ],
   "source": [
    "species_query = \"\"\"\n",
    "    SELECT DISTINCT Species.Code AS species_code, \n",
    "                    Species.Scientific_name AS \"scientific name\"\n",
    "    FROM Bird_eggs \n",
    "    JOIN Bird_nests \n",
    "        USING (Nest_ID)\n",
    "    JOIN Species \n",
    "        ON Bird_nests.Species = Species.Code\n",
    "    ORDER BY Species.Scientific_name;          \n",
    "\"\"\"\n",
    "    \n",
    "for row in c.execute(species_query).fetchall():\n",
    "    species_code = row[0]\n",
    "    scientific_name = row[1]\n",
    "\n",
    "    # Step 3: Query egg data for this species\n",
    "    egg_data_query = \"\"\"\n",
    "        SELECT Bird_nests.Species, Egg_num, Length, Width\n",
    "        FROM Bird_eggs\n",
    "        JOIN Bird_nests USING (Nest_ID)\n",
    "        WHERE Bird_nests.Species = ?\n",
    "    \"\"\"\n",
    "    \n",
    "    # Fetch egg data for this species\n",
    "    df = c.execute(egg_data_query, [species_code]).fetch_df()\n",
    "\n",
    "    # Step 4: Calculate CV\n",
    "    df['Volume'] = df['Width']**2 * df['Length']\n",
    "\n",
    "    cv = round(df.Volume.std()/df.Volume.mean()*100, 2)\n",
    "    print(f\"{scientific_name} {cv}%\")   \n"
   ]
  },
  {
   "cell_type": "markdown",
   "id": "1fb5b56c",
   "metadata": {},
   "source": [
    "## Appendix\n",
    "\n",
    "It’s not necessary to use pd.read_sql to get data into a dataframe, it’s just a convenience. To do so manually (and to show you it’s not that hard), imagine that your query returns three columns. Collect the row data into three separate lists, then manually create a dataframe specifying the contents as a dictionary:\n",
    "\n",
    "```\n",
    "rows = c.execute(\"SELECT Species, Width, Length FROM...\").fetchall()\n",
    "species_column = [t[0] for t in rows]\n",
    "width_column = [t[1] for t in rows]\n",
    "length_column = [t[2] for t in rows]\n",
    "\n",
    "df = pd.DataFrame(\n",
    "    {\n",
    "        \"species\": species_column,\n",
    "        \"width\": width_column,\n",
    "        \"length\": length_column\n",
    "    }\n",
    ")\n",
    "```"
   ]
  }
 ],
 "metadata": {
  "kernelspec": {
   "display_name": "Ian",
   "language": "python",
   "name": "python3"
  },
  "language_info": {
   "codemirror_mode": {
    "name": "ipython",
    "version": 3
   },
   "file_extension": ".py",
   "mimetype": "text/x-python",
   "name": "python",
   "nbconvert_exporter": "python",
   "pygments_lexer": "ipython3",
   "version": "3.10.16"
  }
 },
 "nbformat": 4,
 "nbformat_minor": 5
}
