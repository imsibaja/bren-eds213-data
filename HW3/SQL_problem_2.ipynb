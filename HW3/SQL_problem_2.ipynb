{
 "cells": [
  {
   "cell_type": "markdown",
   "id": "e4a5edf9",
   "metadata": {},
   "source": [
    "## Part 1\n",
    "If we want to know which site has the largest area, it’s tempting to say\n",
    "\n",
    "`SELECT Site_name, MAX(Area) FROM Site;`\n",
    "\n",
    "Wouldn’t that be great? But DuckDB gives an error. And right it should! This query is conceptually flawed. Please describe what is wrong with this query. Don’t just quote DuckDB’s error message— explain why DuckDB is objecting to performing this query.\n",
    "\n",
    "To help you answer this question, you may want to consider:\n",
    "\n",
    "To the database, the above query is no different from\n",
    "\n",
    "`SELECT Site_name, AVG(Area) FROM Site`\n",
    "\n",
    "`SELECT Site_name, COUNT(*) FROM Site`\n",
    "\n",
    "`SELECT Site_name, SUM(Area) FROM Site`\n",
    "\n",
    "In all these examples, the database sees that it is being asked to apply an aggregate function to a table column.\n",
    "\n",
    "When performing an aggregation, SQL wants to collapse the requested columns down to a single row. (For a table-level aggregation such as requested above, it wants to collapse the entire table down to a single row. For a GROUP BY, it wants to collapse each group down to a single row.)"
   ]
  },
  {
   "cell_type": "code",
   "execution_count": null,
   "id": "e10aacb2",
   "metadata": {
    "vscode": {
     "languageId": "sql"
    }
   },
   "outputs": [],
   "source": [
    "SELECT Site_name, MAX(Area) FROM Site;"
   ]
  },
  {
   "cell_type": "code",
   "execution_count": null,
   "id": "d59b50ea",
   "metadata": {
    "vscode": {
     "languageId": "sql"
    }
   },
   "outputs": [],
   "source": [
    "SELECT Site_name, AVG(Area) FROM Site;\n",
    "\n",
    "SELECT Site_name, COUNT(*) FROM Site;\n",
    "\n",
    "SELECT Site_name, SUM(Area) FROM Site;"
   ]
  },
  {
   "cell_type": "markdown",
   "id": "5194ceb3",
   "metadata": {},
   "source": [
    "This code gives an error becasuse there is an aggregate function (MAX) and a non-aggregate (Site_name) in the first query, with no indication on how the database will group the max function. By not grouping, you are aggregating on a single value, which is not possible."
   ]
  },
  {
   "cell_type": "markdown",
   "id": "c2693ae4",
   "metadata": {},
   "source": [
    "\n",
    "## Part 2\n",
    "Time for plan B. Find the site name and area of the site having the largest area. Do so by ordering the rows in a particularly convenient order, and using LIMIT to select just the first row. Your result should look like:\n",
    "\n",
    "│-Site_name-│-Area--│\n",
    "\n",
    "│---varchar--│-float--│\n",
    "\n",
    "|------------|--------|\n",
    "\n",
    "│ Coats Island │ 1239.1 │\n",
    "\n",
    "\n",
    "Please submit your SQL."
   ]
  },
  {
   "cell_type": "code",
   "execution_count": null,
   "id": "7ea335cd",
   "metadata": {
    "vscode": {
     "languageId": "sql"
    }
   },
   "outputs": [],
   "source": [
    "SELECT Site_name, Area FROM Site\n",
    "    ORDER BY Area DESC\n",
    "    LIMIT 1;"
   ]
  },
  {
   "cell_type": "markdown",
   "id": "c95f08b9",
   "metadata": {},
   "source": [
    "\n",
    "## Part 3\n",
    "Do the same, but use a nested query. First, create a query that finds the maximum area. Then, create a query that selects the site name and area of the site whose area equals the maximum. Your overall query will look something like:\n",
    "\n",
    "`SELECT Site_name, Area FROM Site WHERE Area = (SELECT ...);`"
   ]
  },
  {
   "cell_type": "code",
   "execution_count": null,
   "id": "276bbcd7",
   "metadata": {
    "vscode": {
     "languageId": "sql"
    }
   },
   "outputs": [],
   "source": [
    "SELECT Site_name, Area \n",
    "    FROM Site\n",
    "    WHERE Area = \n",
    "        (SELECT Area FROM Site\n",
    "        ORDER BY Area DESC\n",
    "        LIMIT 1);"
   ]
  }
 ],
 "metadata": {
  "language_info": {
   "name": "python"
  }
 },
 "nbformat": 4,
 "nbformat_minor": 5
}
