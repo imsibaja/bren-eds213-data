{
 "cells": [
  {
   "cell_type": "markdown",
   "id": "b706c975",
   "metadata": {},
   "source": [
    "## Intro\n",
    "\n",
    "It’s a useful skill in life (I’m not being rhetorical, I really mean that, it’s a useful skill) to be able to construct an experiment to answer a hypothesis. Suppose you’re not sure what the AVG function returns if there are NULL values in the column being averaged. Suppose you either didn’t have access to any documentation, or didn’t trust it. What experiment could you run to find out what happens?\n",
    "\n",
    "There are two parts to this problem."
   ]
  },
  {
   "cell_type": "markdown",
   "id": "567a620e",
   "metadata": {},
   "source": [
    "## Part 1\n",
    "\n",
    "Construct an SQL experiment to determine the answer to the question above. Does SQL abort with some kind of error? Does it ignore NULL values? Do the NULL values somehow factor into the calculation, and if so, how?\n",
    "\n",
    "I would suggest you start by creating a table (in the bird database, in a new database, in a transient in-memory database, doesn’t matter) with a single column that has data type REAL (for part 2 below, it must be REAL). You can make your table a temp table or not, your choice.\n",
    "\n",
    "CREATE TEMP TABLE mytable... ;\n",
    "\n",
    "Now insert some real numbers and at least one NULL into your table.\n",
    "\n",
    "INSERT INTO mytable... ;\n",
    "\n",
    "(Hmm, can you insert multiple rows at once, or do you have to do a separate INSERT for each row?)\n",
    "\n",
    "Once you have your little table constructed, try doing an AVG on the column and see what is returned. What would the average be if the function ignored NULLs? What would the average be if it somehow factored them in? What is actually returned?\n",
    "\n",
    "Please submit both your SQL and your answer to the question about how AVG operates in the presence of NULL values.\n",
    "\n"
   ]
  },
  {
   "cell_type": "code",
   "execution_count": null,
   "id": "4c7bd157",
   "metadata": {
    "vscode": {
     "languageId": "sql"
    }
   },
   "outputs": [],
   "source": [
    "-- Quick delete\n",
    "-- DROP TABLE mytable;"
   ]
  },
  {
   "cell_type": "code",
   "execution_count": null,
   "id": "7861a2ad",
   "metadata": {
    "vscode": {
     "languageId": "sql"
    }
   },
   "outputs": [],
   "source": [
    "CREATE TEMP TABLE mytable (\n",
    "    x INT,\n",
    "    y INT\n",
    ");\n",
    "INSERT INTO mytable (x, y) VALUES\n",
    "(1, 11),\n",
    "(2, 22),\n",
    "(3, 33),\n",
    "(4, 44),\n",
    "(5, 55),\n",
    "(6, NULL);"
   ]
  },
  {
   "cell_type": "code",
   "execution_count": null,
   "id": "4cd6eb0f",
   "metadata": {
    "vscode": {
     "languageId": "sql"
    }
   },
   "outputs": [],
   "source": [
    "SELECT AVG(y) FROM mytable;"
   ]
  },
  {
   "cell_type": "markdown",
   "id": "3d58fd0a",
   "metadata": {},
   "source": [
    "If the AVG function ignores NULL values: AVG(y) == 33 \n",
    "\n",
    "If the AVG function factors them in: AVG(y) == 27.5 or NULL if null cannot be averaged\n",
    "\n",
    "\n",
    "Since AVG(y) == 33, we can conclude that AVG ignores NULL values."
   ]
  },
  {
   "cell_type": "markdown",
   "id": "52767c08",
   "metadata": {
    "vscode": {
     "languageId": "sql"
    }
   },
   "source": [
    "## Part 2\n",
    "If SQL didn’t have an AVG function, you could compute the average value of a column by doing something like this on your table:\n",
    "\n",
    "SELECT SUM(mycolumn)/COUNT(*) FROM mytable;\n",
    "\n",
    "SELECT SUM(mycolumn)/COUNT(mycolumn) FROM mytable;\n",
    "\n",
    "Which query above is correct? Please explain why.\n",
    "\n",
    "Now that you’re done with your table, you can delete it if desired:\n",
    "\n",
    "DROP TABLE mytable;"
   ]
  },
  {
   "cell_type": "code",
   "execution_count": null,
   "id": "1b17d872",
   "metadata": {
    "vscode": {
     "languageId": "sql"
    }
   },
   "outputs": [],
   "source": [
    "SELECT SUM(y)/COUNT(*) FROM mytable;\n",
    "\n",
    "SELECT SUM(y)/COUNT(y) FROM mytable;"
   ]
  },
  {
   "cell_type": "markdown",
   "id": "b08210b6",
   "metadata": {},
   "source": [
    "The first returns 27.5, which is the average of all values in the column, including NULLs. The second returns 33, which is the average of all non-null values in the column.\n",
    "\n",
    "The first query is incorrect because it divides the sum of all values in the column by the total number of rows in the table, including NULLs. That means there is an inclusion of rows that do not contribute to the average division, but that does not make sense to do as the average does not include the null values themselves (NULL IS NOT 0)."
   ]
  },
  {
   "cell_type": "code",
   "execution_count": null,
   "id": "f71c66ca",
   "metadata": {
    "vscode": {
     "languageId": "sql"
    }
   },
   "outputs": [],
   "source": [
    "DROP TABLE mytable;"
   ]
  }
 ],
 "metadata": {
  "kernelspec": {
   "display_name": "Anaconda 3 (EDS 296)",
   "language": "python",
   "name": "eds296-stevenson"
  },
  "language_info": {
   "name": "python",
   "version": "3.8.18"
  }
 },
 "nbformat": 4,
 "nbformat_minor": 5
}
