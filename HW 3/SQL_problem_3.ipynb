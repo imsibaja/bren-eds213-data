{
 "cells": [
  {
   "cell_type": "markdown",
   "id": "0f5636e0",
   "metadata": {},
   "source": [
    "Your mission is to list the scientific names of bird species in descending order of their maximum average egg volumes. That is, compute the average volume of the eggs in each nest, and then for the nests of each species compute the maximum of those average volumes, and list by species in descending order of maximum volume. You final table should look like:"
   ]
  },
  {
   "cell_type": "raw",
   "id": "881d751d",
   "metadata": {},
   "source": [
    "┌─────────────────────────┬────────────────────┐\n",
    "│     Scientific_name     │   Max_avg_volume   │\n",
    "│         varchar         │       double       │\n",
    "├─────────────────────────┼────────────────────┤\n",
    "│ Pluvialis squatarola    │   36541.8525390625 │\n",
    "│ Pluvialis dominica      │    33847.853515625 │\n",
    "│ Arenaria interpres      │   23338.6220703125 │\n",
    "│ Calidris fuscicollis    │ 13277.143310546875 │\n",
    "│ Calidris alpina         │ 12196.237548828125 │\n",
    "│ Charadrius semipalmatus │ 11266.974975585938 │\n",
    "│ Phalaropus fulicarius   │  8906.775146484375 │\n",
    "└─────────────────────────┴────────────────────┘"
   ]
  },
  {
   "cell_type": "markdown",
   "id": "53e18600",
   "metadata": {},
   "source": [
    "(By the way, regarding the leader in egg size above, Birds of the World says that Pluvialis squatarola’s eggs are “Exceptionally large for size of female (ca. 16% weight of female)”.)\n",
    "\n",
    "To calculate the volume of an egg, use the simplified formula\n",
    "\n",
    "`PI/6 * W^2 * L`\n",
    "\n",
    "where \n",
    "\n",
    "`W is the egg width`\n",
    "\n",
    "`L is the egg length.` \n",
    "\n",
    "`PI == 3.14`\n",
    "\n",
    "(The real formula takes into account the ovoid shape of eggs, but only width and length are available to us here.)\n",
    "\n",
    "A good place to start is just to group bird eggs by nest (i.e., Nest_ID) and compute average volumes:\n",
    "\n",
    "`CREATE TEMP TABLE Averages AS\n",
    "    SELECT Nest_ID, AVG(...) AS Avg_volume\n",
    "        FROM ...\n",
    "        GROUP BY ...;`"
   ]
  },
  {
   "cell_type": "code",
   "execution_count": null,
   "id": "41d40c7e",
   "metadata": {
    "vscode": {
     "languageId": "sql"
    }
   },
   "outputs": [],
   "source": [
    "-- View table\n",
    "cd bren-eds213-data/database\n",
    "duckdb database.db"
   ]
  },
  {
   "cell_type": "code",
   "execution_count": null,
   "id": "adabd09e",
   "metadata": {
    "vscode": {
     "languageId": "sql"
    }
   },
   "outputs": [],
   "source": [
    "CREATE TEMP TABLE Averages AS\n",
    "    SELECT Nest_ID, \n",
    "           AVG(3.14/6 * POWER(Width, 2) * Length) AS Avg_volume\n",
    "        FROM Bird_eggs\n",
    "        GROUP BY Nest_ID;"
   ]
  },
  {
   "cell_type": "code",
   "execution_count": null,
   "id": "e5225633",
   "metadata": {
    "vscode": {
     "languageId": "sql"
    }
   },
   "outputs": [],
   "source": [
    "-- View Averages table\n",
    "SELECT * FROM Averages;"
   ]
  },
  {
   "cell_type": "markdown",
   "id": "631c4e52",
   "metadata": {},
   "source": [
    "\n",
    "You can now join that table with Bird_nests, so that you can group by species, and also join with the Species table to pick up scientific names. To do just the first of those joins, you could say something like\n",
    "\n",
    "`SELECT Species, MAX(...)\n",
    "    FROM Bird_nests JOIN Averages USING (Nest_ID)\n",
    "    GROUP BY ...;`\n",
    "    \n",
    "(Notice how, if the joined columns have the same name, you can more compactly say USING (common_column) instead of ON column_a = column_b.)"
   ]
  },
  {
   "cell_type": "code",
   "execution_count": null,
   "id": "ef620be1",
   "metadata": {
    "vscode": {
     "languageId": "sql"
    }
   },
   "outputs": [],
   "source": [
    "SELECT Species, MAX(Avg_volume)\n",
    "    FROM Bird_nests JOIN Averages USING (Nest_ID)\n",
    "    GROUP BY Species;"
   ]
  },
  {
   "cell_type": "markdown",
   "id": "5b65135a",
   "metadata": {},
   "source": [
    "That’s not the whole story, we want scientific names not species codes. Another join is needed. A couple strategies here. One, you can modify the above query to also join with the Species table (you’ll need to replace USING with ON …). Two, you can save the above as another temp table and join it to Species separately.\n",
    "\n",
    "Don’t forget to order the results. Here it is convenient to give computed quantities nice names so you can refer to them."
   ]
  },
  {
   "cell_type": "code",
   "execution_count": null,
   "id": "412297d0",
   "metadata": {
    "vscode": {
     "languageId": "sql"
    }
   },
   "outputs": [],
   "source": [
    "SELECT * FROM Species;"
   ]
  },
  {
   "cell_type": "code",
   "execution_count": null,
   "id": "888baa7d",
   "metadata": {
    "vscode": {
     "languageId": "sql"
    }
   },
   "outputs": [],
   "source": [
    "(SELECT Species, MAX(Avg_volume)\n",
    "    FROM Bird_nests JOIN Averages USING (Nest_ID)\n",
    "    GROUP BY Species);"
   ]
  },
  {
   "cell_type": "code",
   "execution_count": null,
   "id": "b30c977e",
   "metadata": {
    "vscode": {
     "languageId": "sql"
    }
   },
   "outputs": [],
   "source": [
    "SELECT Scientific_name, Max_avg_volume\n",
    "    FROM Species \n",
    "    JOIN (SELECT Species, MAX(Avg_volume) AS Max_avg_volume\n",
    "         FROM Bird_nests JOIN Averages USING (Nest_ID)\n",
    "         GROUP BY Species) \n",
    "         ON Species.Code = Species;"
   ]
  },
  {
   "cell_type": "markdown",
   "id": "74e07a65",
   "metadata": {},
   "source": [
    "\n",
    "Please submit all of the SQL you used to solve the problem. Bonus points if you can do all of the above in one statement."
   ]
  },
  {
   "cell_type": "code",
   "execution_count": null,
   "id": "393442c7",
   "metadata": {
    "vscode": {
     "languageId": "sql"
    }
   },
   "outputs": [],
   "source": [
    "SELECT Scientific_name, Max_avg_volume\n",
    "FROM Species \n",
    "JOIN(\n",
    "    SELECT Species, MAX(Avg_volume) AS Max_avg_volume\n",
    "    FROM Bird_nests \n",
    "    JOIN(\n",
    "        SELECT Nest_ID, \n",
    "               AVG(3.14/6 * POWER(Width, 2) * Length) AS Avg_volume\n",
    "        FROM Bird_eggs\n",
    "        GROUP BY Nest_ID\n",
    "    ) USING (Nest_ID)\n",
    "    GROUP BY Species\n",
    ") ON Species.Code = Species;"
   ]
  },
  {
   "cell_type": "markdown",
   "id": "9c8bcb41",
   "metadata": {},
   "source": [
    "Count for bonus points?"
   ]
  },
  {
   "cell_type": "markdown",
   "id": "cba75635",
   "metadata": {},
   "source": []
  }
 ],
 "metadata": {
  "language_info": {
   "name": "python"
  }
 },
 "nbformat": 4,
 "nbformat_minor": 5
}
