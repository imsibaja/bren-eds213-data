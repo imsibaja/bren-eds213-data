{
 "cells": [
  {
   "cell_type": "code",
   "execution_count": null,
   "id": "47532d11",
   "metadata": {
    "vscode": {
     "languageId": "sql"
    }
   },
   "outputs": [],
   "source": [
    "cd bren-eds213-data/HW8\n",
    "sqlite3 big-fat.sqlite3\n",
    ".tables"
   ]
  },
  {
   "cell_type": "code",
   "execution_count": null,
   "id": "7d76fef0",
   "metadata": {
    "vscode": {
     "languageId": "sql"
    }
   },
   "outputs": [],
   "source": [
    "SELECT Nest_ID\n",
    "    FROM Bird_nests\n",
    "    WHERE Site = 'nome' AND\n",
    "          Species = 'ruff' AND\n",
    "          Year = 1983 AND\n",
    "          Observer = 'cbishop' AND\n",
    "          ageMethod = 'float';"
   ]
  },
  {
   "cell_type": "code",
   "execution_count": null,
   "id": "62891b6c",
   "metadata": {
    "vscode": {
     "languageId": "sql"
    }
   },
   "outputs": [],
   "source": [
    "SELECT CASE WHEN count(distinct Nest_ID)= count(Nest_ID)\n",
    "THEN 'column values are unique' ELSE 'column values are NOT unique' END\n",
    "FROM Bird_nests;"
   ]
  },
  {
   "cell_type": "markdown",
   "id": "196af5b8",
   "metadata": {
    "vscode": {
     "languageId": "sql"
    }
   },
   "source": [
    "## Part 1\n",
    "Answer the following questions.\n",
    "\n",
    "*Is there already an index on the Bird_nests table? If so, what is that index and will SQLite use it in the above query? Why or why not?*\n",
    "\n",
    "*Will adding an index on a column not mentioned in the WHERE clause be used by the database? Why or why not?*"
   ]
  },
  {
   "cell_type": "markdown",
   "id": "ec477cbd",
   "metadata": {},
   "source": [
    "**No, there is no index on the Bird_nests table. SQL uses the values index in the WHERE clause of the query as it is the primary key.**"
   ]
  },
  {
   "cell_type": "markdown",
   "id": "0885734d",
   "metadata": {},
   "source": [
    "**Adding an index on a column would not be used in the WHERE clause, as SQLite only uses indexes relevant to the specific query being executed.**"
   ]
  },
  {
   "cell_type": "markdown",
   "id": "f27e33db",
   "metadata": {},
   "source": [
    "## Part 2\n",
    "\n",
    "Query optimization, which falls under the general heading of “database tuning,” is a complex subject, as query performance depends on the query or queries being supported, the distribution and nature of the data, the abilities and characteristics of the query planner, and the costs of creating and maintaining indexes. Still, we can make a general observation about what makes for a good index (“good” meaning improving query performance here) by examining the effects of adding different indexes on the Bird_nests table and timing the above query.\n",
    "\n",
    "### Your task is to conduct at least 15 experiments. In each experiment perform the following steps:\n",
    "\n",
    "- Create an index on a column or columns.\n",
    "- Time the above query. (To time a query, execute it many times in a loop, and divide the total time required by the number of repetitions to get the average query time. Be sure to use this approach, as query times can be highly variable.)\n",
    "- Drop the index (to avoid accumulating indexes on the table).\n",
    "- Also, determine the number of distinct values in the index, i.e., the number of distinct values in the column or number of distinct tuples if the index is over multiple columns.\n",
    "\n",
    "\n",
    "### What experiments to run?\n",
    "\n",
    "- Run an initial experiment with no added index. For this experiment only, record the number of distinct values as 1.\n",
    "- Try adding an index on each column mentioned in the WHERE clause (e.g., Site): that’s 5 experiments right there.\n",
    "\n",
    "- Try adding an index on a couple of columns at a time. Try at least the following combinations, but add others if you like:\n",
    "``` \n",
    "Site,Species\n",
    "Site,Observer\n",
    "Species,Observer\n",
    "Year,Observer\n",
    "Observer,ageMethod\n",
    "```\n",
    "- Try adding an index on 3-4 columns at a time.\n",
    "- When done, you will want your results in the form of a CSV file with three columns: label, average query time, and number of distinct values. If you use the label “none” for the initial experiment and the columns indexed as the label, your CSV file might resemble:\n",
    "\n",
    "```\n",
    "label,avg_query_time,num_distinct_values\n",
    "none,#####,1\n",
    "Site,#####,16\n",
    "Species,#####,#####\n",
    "Year,#####,#####\n",
    "Observer,#####,#####\n",
    "ageMethod,#####,#####\n",
    "\"Site,Species\",#####,#####\n",
    "\"Site,Observer\",#####,#####\n",
    "...\n",
    "```\n",
    "\n",
    "For timing, you can use the Bash test harness you developed in week 5, or you can do your timings from R or Python if you prefer. Regardless of the language, ensure that you compute the average time it takes to perform the query as described above.\n",
    "\n",
    "You can run your test harness manually for each experiment, and manually retrieve the number of distinct values for step 4 above. That’s just fine. But you can also automate the whole process; some hints for doing so are below. Be careful when running your test harness, as in the end you want just one row in your CSV file per experiment. Don’t get hung up on automating the experiments; that’s not a requirement.\n",
    "\n",
    "Once you have your data, load it in Jupyter or RStudio and create a log-log scatter plot of the number of distinct index values (X axis) versus query time (Y axis). (Results will be difficult to see if both axes are not logarithmic.) If all goes well, your plot should resemble something like this:\n",
    "\n",
    "\n",
    "\n",
    "Recall that num_distinct_values = 1, the leftmost point on your scatter plot, corresponds to using no index at all.\n",
    "\n",
    "**Finally,**\n",
    "\n",
    "Answer these questions:\n",
    "\n",
    "*What relationship do you observe? Hypothesize why you see the relationship you do.*\n",
    "*What conclusion do you draw regarding what makes a good index?*\n",
    "\n",
    "Upload all your work: your test harness, your analysis notebook, and your CSV file.\n"
   ]
  },
  {
   "cell_type": "markdown",
   "id": "6aec8b15",
   "metadata": {},
   "source": [
    "#### Import Libraries"
   ]
  },
  {
   "cell_type": "code",
   "execution_count": 74,
   "id": "494b6dcb",
   "metadata": {},
   "outputs": [],
   "source": [
    "import sqlite3\n",
    "import time\n",
    "import pandas as pd\n",
    "import seaborn as sns\n",
    "import matplotlib.pyplot as plt"
   ]
  },
  {
   "cell_type": "markdown",
   "id": "d60207bf",
   "metadata": {},
   "source": [
    "#### Connect to SQLite Database"
   ]
  },
  {
   "cell_type": "code",
   "execution_count": 67,
   "id": "60d5775c",
   "metadata": {},
   "outputs": [],
   "source": [
    "conn = sqlite3.connect(\"big-fat.sqlite3\")"
   ]
  },
  {
   "cell_type": "markdown",
   "id": "6e0637e7",
   "metadata": {},
   "source": [
    "#### Initialize Variables"
   ]
  },
  {
   "cell_type": "code",
   "execution_count": 68,
   "id": "e94e0a1b",
   "metadata": {},
   "outputs": [],
   "source": [
    "QUERY = \"\"\"\n",
    "SELECT Nest_ID\n",
    "FROM Bird_nests\n",
    "WHERE Site = 'nome'\n",
    "  AND Species = 'ruff'\n",
    "  AND Year = 1983\n",
    "  AND Observer = 'cbishop'\n",
    "  AND ageMethod = 'float';\n",
    "\"\"\"\n",
    "repititions = 100\n",
    "\n",
    "# Experiments: (label, list_of_columns)\n",
    "indexes = [\n",
    "    (\"none\", []),\n",
    "    (\"Site\", [\"Site\"]),\n",
    "    (\"Species\", [\"Species\"]),\n",
    "    (\"Year\", [\"Year\"]),\n",
    "    (\"Observer\", [\"Observer\"]),\n",
    "    (\"ageMethod\", [\"ageMethod\"]),\n",
    "    (\"Site,Species\", [\"Site\", \"Species\"]),\n",
    "    (\"Site,Observer\", [\"Site\", \"Observer\"]),\n",
    "    (\"Site,Year\", [\"Site\", \"Year\"]),\n",
    "    (\"Year,Species\", [\"Year\", \"Species\"]),\n",
    "    (\"Species,Observer\", [\"Species\", \"Observer\"]),\n",
    "    (\"Species,ageMethod\", [\"Species\", \"ageMethod\"]),\n",
    "    (\"Year,Observer\", [\"Year\", \"Observer\"]),\n",
    "    (\"Observer,ageMethod\", [\"Observer\", \"ageMethod\"]),\n",
    "    (\"Observer,Year,Species\", [\"Observer\", \"Year\", \"Species\"]),\n",
    "]\n"
   ]
  },
  {
   "cell_type": "markdown",
   "id": "08f5637f",
   "metadata": {},
   "source": [
    "#### Run Timing Test"
   ]
  },
  {
   "cell_type": "code",
   "execution_count": null,
   "id": "5aa351a8",
   "metadata": {},
   "outputs": [],
   "source": [
    "\n",
    "results = []\n",
    "\n",
    "for label, col_list in indexes:\n",
    "    \n",
    "     # Create index variable name based on columns\n",
    "    if len(col_list) > 0:\n",
    "        index_name = f\"index_{'_'.join(col_list)}\"\n",
    "    else:\n",
    "        index_name = None\n",
    "\n",
    "    # Drop the index if it exists in database\n",
    "    if index_name!= None:\n",
    "        conn.execute(f\"DROP INDEX IF EXISTS {index_name}\")\n",
    "\n",
    "    # Create index in database\n",
    "    if len(col_list) > 0:\n",
    "        col_list_str = \", \".join(col_list)\n",
    "        conn.execute(f\"CREATE INDEX {index_name} ON Bird_nests ({col_list_str})\")\n",
    "\n",
    "    # Test harness\n",
    "    start_time = time.time()\n",
    "    for _ in range(repititions):\n",
    "        conn.execute(QUERY).fetchall()\n",
    "    end_time = time.time()\n",
    "    avg_time = (end_time - start_time) / repititions\n",
    "\n",
    "    # Count distinct values\n",
    "    if len(col_list) == 0:\n",
    "        distinct_count = 1\n",
    "    elif len(col_list) == 1:\n",
    "        distinct_count = conn.execute(f\"SELECT COUNT(DISTINCT {col_list[0]}) FROM Bird_nests\").fetchone()[0]\n",
    "    else:\n",
    "        distinct_col_list = \", \".join(col_list)\n",
    "        distinct_count = conn.execute(f\"SELECT COUNT(*) FROM (SELECT DISTINCT {distinct_col_list} FROM Bird_nests)\").fetchone()[0]\n",
    "\n",
    "\n",
    "    results.append((label, avg_time, distinct_count))\n"
   ]
  },
  {
   "cell_type": "markdown",
   "id": "8ee171c2",
   "metadata": {},
   "source": [
    "#### Close Connection"
   ]
  },
  {
   "cell_type": "code",
   "execution_count": 70,
   "id": "48049fd8",
   "metadata": {},
   "outputs": [],
   "source": [
    "\n",
    "conn.close()\n"
   ]
  },
  {
   "cell_type": "markdown",
   "id": "fe5f802d",
   "metadata": {},
   "source": [
    "#### Create DataFrame and Save to CSV"
   ]
  },
  {
   "cell_type": "code",
   "execution_count": 76,
   "id": "761b0e4b",
   "metadata": {},
   "outputs": [
    {
     "data": {
      "application/vnd.microsoft.datawrangler.viewer.v0+json": {
       "columns": [
        {
         "name": "index",
         "rawType": "int64",
         "type": "integer"
        },
        {
         "name": "label",
         "rawType": "object",
         "type": "string"
        },
        {
         "name": "avg_query_time",
         "rawType": "float64",
         "type": "float"
        },
        {
         "name": "num_distinct_values",
         "rawType": "int64",
         "type": "integer"
        }
       ],
       "ref": "c29dff3f-6655-48c9-9126-71119408e94f",
       "rows": [
        [
         "0",
         "none",
         "2.4669124341011046",
         "1"
        ],
        [
         "1",
         "Site",
         "0.2273266172409057",
         "16"
        ],
        [
         "2",
         "Species",
         "0.047863392829895",
         "99"
        ],
        [
         "3",
         "Year",
         "0.0655072379112243",
         "66"
        ],
        [
         "4",
         "Observer",
         "0.0196661138534545",
         "269"
        ],
        [
         "5",
         "ageMethod",
         "1.0263752937316897",
         "3"
        ],
        [
         "6",
         "Site,Species",
         "0.0034860849380493",
         "1584"
        ],
        [
         "7",
         "Site,Observer",
         "0.001020004749298",
         "4304"
        ],
        [
         "8",
         "Site,Year",
         "0.0043840765953063",
         "1056"
        ],
        [
         "9",
         "Year,Species",
         "0.0006477999687194",
         "6534"
        ],
        [
         "10",
         "Species,Observer",
         "3.733158111572266e-05",
         "26631"
        ],
        [
         "11",
         "Species,ageMethod",
         "0.0182175755500793",
         "297"
        ],
        [
         "12",
         "Year,Observer",
         "6.7138671875e-05",
         "17754"
        ],
        [
         "13",
         "Observer,ageMethod",
         "0.0061604142189025",
         "807"
        ],
        [
         "14",
         "Observer,Year,Species",
         "1.3287067413330076e-05",
         "1194003"
        ]
       ],
       "shape": {
        "columns": 3,
        "rows": 15
       }
      },
      "text/html": [
       "<div>\n",
       "<style scoped>\n",
       "    .dataframe tbody tr th:only-of-type {\n",
       "        vertical-align: middle;\n",
       "    }\n",
       "\n",
       "    .dataframe tbody tr th {\n",
       "        vertical-align: top;\n",
       "    }\n",
       "\n",
       "    .dataframe thead th {\n",
       "        text-align: right;\n",
       "    }\n",
       "</style>\n",
       "<table border=\"1\" class=\"dataframe\">\n",
       "  <thead>\n",
       "    <tr style=\"text-align: right;\">\n",
       "      <th></th>\n",
       "      <th>label</th>\n",
       "      <th>avg_query_time</th>\n",
       "      <th>num_distinct_values</th>\n",
       "    </tr>\n",
       "  </thead>\n",
       "  <tbody>\n",
       "    <tr>\n",
       "      <th>0</th>\n",
       "      <td>none</td>\n",
       "      <td>2.466912</td>\n",
       "      <td>1</td>\n",
       "    </tr>\n",
       "    <tr>\n",
       "      <th>1</th>\n",
       "      <td>Site</td>\n",
       "      <td>0.227327</td>\n",
       "      <td>16</td>\n",
       "    </tr>\n",
       "    <tr>\n",
       "      <th>2</th>\n",
       "      <td>Species</td>\n",
       "      <td>0.047863</td>\n",
       "      <td>99</td>\n",
       "    </tr>\n",
       "    <tr>\n",
       "      <th>3</th>\n",
       "      <td>Year</td>\n",
       "      <td>0.065507</td>\n",
       "      <td>66</td>\n",
       "    </tr>\n",
       "    <tr>\n",
       "      <th>4</th>\n",
       "      <td>Observer</td>\n",
       "      <td>0.019666</td>\n",
       "      <td>269</td>\n",
       "    </tr>\n",
       "    <tr>\n",
       "      <th>5</th>\n",
       "      <td>ageMethod</td>\n",
       "      <td>1.026375</td>\n",
       "      <td>3</td>\n",
       "    </tr>\n",
       "    <tr>\n",
       "      <th>6</th>\n",
       "      <td>Site,Species</td>\n",
       "      <td>0.003486</td>\n",
       "      <td>1584</td>\n",
       "    </tr>\n",
       "    <tr>\n",
       "      <th>7</th>\n",
       "      <td>Site,Observer</td>\n",
       "      <td>0.001020</td>\n",
       "      <td>4304</td>\n",
       "    </tr>\n",
       "    <tr>\n",
       "      <th>8</th>\n",
       "      <td>Site,Year</td>\n",
       "      <td>0.004384</td>\n",
       "      <td>1056</td>\n",
       "    </tr>\n",
       "    <tr>\n",
       "      <th>9</th>\n",
       "      <td>Year,Species</td>\n",
       "      <td>0.000648</td>\n",
       "      <td>6534</td>\n",
       "    </tr>\n",
       "    <tr>\n",
       "      <th>10</th>\n",
       "      <td>Species,Observer</td>\n",
       "      <td>0.000037</td>\n",
       "      <td>26631</td>\n",
       "    </tr>\n",
       "    <tr>\n",
       "      <th>11</th>\n",
       "      <td>Species,ageMethod</td>\n",
       "      <td>0.018218</td>\n",
       "      <td>297</td>\n",
       "    </tr>\n",
       "    <tr>\n",
       "      <th>12</th>\n",
       "      <td>Year,Observer</td>\n",
       "      <td>0.000067</td>\n",
       "      <td>17754</td>\n",
       "    </tr>\n",
       "    <tr>\n",
       "      <th>13</th>\n",
       "      <td>Observer,ageMethod</td>\n",
       "      <td>0.006160</td>\n",
       "      <td>807</td>\n",
       "    </tr>\n",
       "    <tr>\n",
       "      <th>14</th>\n",
       "      <td>Observer,Year,Species</td>\n",
       "      <td>0.000013</td>\n",
       "      <td>1194003</td>\n",
       "    </tr>\n",
       "  </tbody>\n",
       "</table>\n",
       "</div>"
      ],
      "text/plain": [
       "                    label  avg_query_time  num_distinct_values\n",
       "0                    none        2.466912                    1\n",
       "1                    Site        0.227327                   16\n",
       "2                 Species        0.047863                   99\n",
       "3                    Year        0.065507                   66\n",
       "4                Observer        0.019666                  269\n",
       "5               ageMethod        1.026375                    3\n",
       "6            Site,Species        0.003486                 1584\n",
       "7           Site,Observer        0.001020                 4304\n",
       "8               Site,Year        0.004384                 1056\n",
       "9            Year,Species        0.000648                 6534\n",
       "10       Species,Observer        0.000037                26631\n",
       "11      Species,ageMethod        0.018218                  297\n",
       "12          Year,Observer        0.000067                17754\n",
       "13     Observer,ageMethod        0.006160                  807\n",
       "14  Observer,Year,Species        0.000013              1194003"
      ]
     },
     "execution_count": 76,
     "metadata": {},
     "output_type": "execute_result"
    }
   ],
   "source": [
    "\n",
    "# Save and display\n",
    "timings_df = pd.DataFrame(results, columns=[\"label\", \"avg_query_time\", \"num_distinct_values\"])\n",
    "#timings_df.to_csv(\"timings.csv\", index=False)\n",
    "timings_df = pd.read_csv(\"timings.csv\") \n",
    "timings_df"
   ]
  },
  {
   "cell_type": "markdown",
   "id": "4b4805ad",
   "metadata": {},
   "source": [
    "#### Plot Results"
   ]
  },
  {
   "cell_type": "code",
   "execution_count": 77,
   "id": "8c2c2ee3",
   "metadata": {},
   "outputs": [
    {
     "data": {
      "image/png": "[encoded data removed]",
      "text/plain": [
       "<Figure size 800x600 with 1 Axes>"
      ]
     },
     "metadata": {},
     "output_type": "display_data"
    }
   ],
   "source": [
    "\n",
    "# Set up the figure and style\n",
    "sns.set_theme(style=\"whitegrid\", context=\"notebook\")\n",
    "\n",
    "# Create the plot\n",
    "plt.figure(figsize=(8, 6))\n",
    "plot = sns.scatterplot(\n",
    "    data=timings_df,\n",
    "    x=\"num_distinct_values\",\n",
    "    y=\"avg_query_time\",\n",
    "    hue=\"label\",  # Optional: helps identify the indexed columns\n",
    "    palette=\"tab10\",\n",
    "    s=100  # point size\n",
    ")\n",
    "\n",
    "# Set log scale\n",
    "plot.set(xscale=\"log\", yscale=\"log\")\n",
    "\n",
    "# Add axis labels and title\n",
    "plot.set_title(\"Query Time vs. Distinct Index Values (Log-Log Scale)\", fontsize=14)\n",
    "plot.set_xlabel(\"Number of Distinct Values (log scale)\", fontsize=12)\n",
    "plot.set_ylabel(\"Average Query Time (s, log scale)\", fontsize=12)\n",
    "\n",
    "# Improve layout\n",
    "plt.legend(title=\"Index\", bbox_to_anchor=(1.05, 1), loc=\"upper left\")\n",
    "plt.tight_layout()\n",
    "plt.show()\n"
   ]
  },
  {
   "cell_type": "markdown",
   "id": "c8df2954",
   "metadata": {},
   "source": [
    "*What relationship do you observe? Hypothesize why you see the relationship you do.*\n",
    "\n",
    "**There is a near linear relationship between the number of distinct values in the index and the average query time on this log-log plot. This means that the average query time decreases exponentially as the number of distinct values in the index increases. This is likely because a larger number of distinct values allows the database to more efficiently narrow down the search space for the query, leading to faster retrieval times.**\n",
    "\n",
    "What conclusion do you draw regarding what makes a good index?\n",
    "\n",
    "**A good index is one that has the most possible distinct values, allowing the system to parse as little data as possible. With efficiency increased, the query is excecuted much faster.**"
   ]
  }
 ],
 "metadata": {
  "kernelspec": {
   "display_name": "Ian",
   "language": "python",
   "name": "python3"
  },
  "language_info": {
   "codemirror_mode": {
    "name": "ipython",
    "version": 3
   },
   "file_extension": ".py",
   "mimetype": "text/x-python",
   "name": "python",
   "nbconvert_exporter": "python",
   "pygments_lexer": "ipython3",
   "version": "3.10.16"
  }
 },
 "nbformat": 4,
 "nbformat_minor": 5
}
