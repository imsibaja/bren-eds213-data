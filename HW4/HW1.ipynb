{
 "cells": [
  {
   "cell_type": "markdown",
   "id": "e6ee6221",
   "metadata": {},
   "source": [
    "Which sites have no egg data? Please answer this question using all three techniques demonstrated in class. In doing so, you will need to work with the Bird_eggs table, the Site table, or both. As a reminder, the techniques are:\n",
    "\n",
    "Using a Code NOT IN (subquery) clause."
   ]
  },
  {
   "cell_type": "code",
   "execution_count": null,
   "id": "a4ad784d",
   "metadata": {
    "vscode": {
     "languageId": "sql"
    }
   },
   "outputs": [],
   "source": [
    "SELECT Code FROM Site\n",
    "    WHERE Code NOT IN (SELECT Site FROM Bird_eggs)\n",
    "    ORDER BY Code;"
   ]
  },
  {
   "cell_type": "markdown",
   "id": "3df736a3",
   "metadata": {},
   "source": [
    "\n",
    "Using an outer join with a WHERE clause that selects the desired rows. \n"
   ]
  },
  {
   "cell_type": "code",
   "execution_count": null,
   "id": "85c4c51e",
   "metadata": {
    "vscode": {
     "languageId": "sql"
    }
   },
   "outputs": [],
   "source": [
    "--  Using an outer join with a WHERE clause that selects the desired rows. \n",
    "SELECT Code FROM Site\n",
    "    LEFT JOIN Bird_eggs ON Code = Site\n",
    "    WHERE Site IS NULL AND Code IS NOT NULL\n",
    "    ORDER BY Code;"
   ]
  },
  {
   "cell_type": "markdown",
   "id": "c4a5502a",
   "metadata": {},
   "source": [
    "Caution: make sure your IS NULL test is performed against a column that is not ordinarily allowed to be NULL. You may want to consult the database schema to remind yourself of column declarations."
   ]
  },
  {
   "cell_type": "markdown",
   "id": "1ee9c66e",
   "metadata": {},
   "source": [
    "Using the set operation EXCEPT."
   ]
  },
  {
   "cell_type": "code",
   "execution_count": null,
   "id": "0d8da46f",
   "metadata": {
    "vscode": {
     "languageId": "sql"
    }
   },
   "outputs": [],
   "source": [
    "-- Use set operation EXCEPT\n",
    "SELECT Code FROM Site\n",
    "    EXCEPT (SELECT Site FROM Bird_eggs)\n",
    "    ORDER BY Code;"
   ]
  },
  {
   "cell_type": "markdown",
   "id": "d1cf0990",
   "metadata": {},
   "source": [
    "\n",
    "Add an ORDER BY clause to your queries so that all three produce the exact same result:\n",
    "```\n",
    "┌─────────┐\n",
    "│  Code   │\n",
    "│ varchar │\n",
    "├─────────┤\n",
    "│ barr    │\n",
    "│ burn    │\n",
    "│ bylo    │\n",
    "│ cakr    │\n",
    "│ cari    │\n",
    "│ chau    │\n",
    "│ coat    │\n",
    "│ colv    │\n",
    "│ iglo    │\n",
    "│ ikpi    │\n",
    "│ lkri    │\n",
    "│ made    │\n",
    "│ nome    │\n",
    "│ prba    │\n",
    "├─────────┤\n",
    "│ 14 rows │\n",
    "└─────────┘\n",
    "```\n",
    "Submit your SQL."
   ]
  },
  {
   "cell_type": "markdown",
   "id": "985dc543",
   "metadata": {},
   "source": []
  }
 ],
 "metadata": {
  "kernelspec": {
   "display_name": "Ian",
   "language": "python",
   "name": "python3"
  },
  "language_info": {
   "codemirror_mode": {
    "name": "ipython",
    "version": 3
   },
   "file_extension": ".py",
   "mimetype": "text/x-python",
   "name": "python",
   "nbconvert_exporter": "python",
   "pygments_lexer": "ipython3",
   "version": "3.10.16"
  }
 },
 "nbformat": 4,
 "nbformat_minor": 5
}
