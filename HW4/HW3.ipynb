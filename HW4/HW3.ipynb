{
 "cells": [
  {
   "cell_type": "markdown",
   "id": "fa62e98a",
   "metadata": {},
   "source": [
    "You’re reading up on how eggs are aged by floating them in water 1:\n",
    "\n",
    "when you receive an urgent phone call from a colleague who says they just discovered that an observer, who worked at the “nome” site between 1998 and 2008 inclusive, had been floating eggs in salt water and not freshwater. The density of salt water being different, those measurements are incorrect and need to be adjusted. The colleague says that this incorrect technique was used on exactly 36 nests, but before you can ask who the observer was, the phone is disconnected. Who made this error? That is, looking at nest data for “nome” between 1998 and 2008 inclusive, and for which egg age was determined by floating, can you determine the (full) name of the observer who observed exactly 36 nests? Please submit your SQL. Your SQL should return exactly one row, the answer. That is, your query should produce:\n",
    "\n",
    "```\n",
    "┌──────────────────┬───────────────────┐\n",
    "│       Name       │ Num_floated_nests │\n",
    "│     varchar      │       int64       │\n",
    "├──────────────────┼───────────────────┤\n",
    "│ (hidden)         │                36 │\n",
    "└──────────────────┴───────────────────┘\n",
    "```\n",
    "\n",
    "Credit: 50 points"
   ]
  },
  {
   "cell_type": "code",
   "execution_count": null,
   "id": "73896886",
   "metadata": {
    "vscode": {
     "languageId": "sql"
    }
   },
   "outputs": [],
   "source": [
    "SELECT Name, Num_floated_nests FROM\n",
    "    (SELECT Observer, COUNT(Nest_ID) AS Num_floated_nests\n",
    "     FROM Bird_nests\n",
    "        WHERE Site = 'nome'\n",
    "        AND Date_found BETWEEN '1998-01-01' AND '2008-12-31'\n",
    "        AND Agemethod = 'float'\n",
    "        Group By Observer\n",
    "        Having COUNT(Nest_ID) == 36)\n",
    "JOIN Personnel ON Observer = Abbreviation;"
   ]
  }
 ],
 "metadata": {
  "kernelspec": {
   "display_name": "Ian",
   "language": "python",
   "name": "python3"
  },
  "language_info": {
   "codemirror_mode": {
    "name": "ipython",
    "version": 3
   },
   "file_extension": ".py",
   "mimetype": "text/x-python",
   "name": "python",
   "nbconvert_exporter": "python",
   "pygments_lexer": "ipython3",
   "version": "3.10.16"
  }
 },
 "nbformat": 4,
 "nbformat_minor": 5
}
