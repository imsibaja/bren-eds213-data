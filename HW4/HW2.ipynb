{
 "cells": [
  {
   "cell_type": "markdown",
   "id": "c13c2e23",
   "metadata": {},
   "source": [
    "The Camp_assignment table lists where each person worked and when. Your goal is to answer, Who worked with whom? That is, you are to find all pairs of people who worked at the same site, and whose date ranges overlap while at that site. This can be solved using a self-join.\n",
    "\n",
    "A self-join of a table is a regular join, but instead of joining two different tables, we join two copies of the same table, which we will call the “A” copy and the “B” copy:\n",
    "\n",
    "```SELECT * FROM Camp_assignment A JOIN Camp_assignment B ...```\n",
    "\n",
    "The idea is that the above join will give us rows that pair every person/site/date range with every other person/site/date range. With no conditions on the join, since there are 441 rows in the Camp_assignment table, the join will produce 441 * 441 = 194,481 rows. But out of all those rows we want only those where the two people worked at the same site. So:\n",
    "\n",
    "- Step 1. To the above join, add an ON clause that selects only those rows where the two people (the “A” person and the “B” person) worked at the same site: ON A.Site = .... You should wind up with a table with 15521 rows.\n"
   ]
  },
  {
   "cell_type": "code",
   "execution_count": null,
   "id": "8d5206eb",
   "metadata": {
    "vscode": {
     "languageId": "sql"
    }
   },
   "outputs": [],
   "source": [
    "SELECT * FROM Camp_assignment A JOIN Camp_assignment B\n",
    "    ON A.Site = B.Site;"
   ]
  },
  {
   "cell_type": "markdown",
   "id": "59d8c2a9",
   "metadata": {},
   "source": [
    "\n",
    "- Step 2. We’ve matched up people working at the same site, but they don’t necessarily overlap in time. To the previous ON clause, add another condition that checks that the “A” person’s and the “B” person’s date ranges overlap. If you are unsure of the formula to do this, it may be helpful to consult this StackOverflow post. Your table should be down to 3500 rows.\n"
   ]
  },
  {
   "cell_type": "code",
   "execution_count": null,
   "id": "550bf7f4",
   "metadata": {
    "vscode": {
     "languageId": "sql"
    }
   },
   "outputs": [],
   "source": [
    "SELECT * FROM Camp_assignment A JOIN Camp_assignment B\n",
    "    ON A.Site = B.Site\n",
    "    AND (A.Start <= B.End) and (A.End >= B.Start);"
   ]
  },
  {
   "cell_type": "markdown",
   "id": "b518b361",
   "metadata": {},
   "source": [
    "\n",
    "- Step 3. Well, there’s a problem. To better see it, add a clause WHERE A.Site = 'lkri' so you have only \n",
    " rows. If you look closely, you can see that there are rows representing people working with themselves, which is not what we’re interested in. Also, every pair of people working together is represented by two rows, which are identical but with the names in different order. We only want one row per unique pair of people. We can clean this up by adding a condition to the clause, A.Observer < B.Observer. I.e., we only want ordered, distinct pairs. Your table should be down to 2 rows.\n"
   ]
  },
  {
   "cell_type": "code",
   "execution_count": null,
   "id": "71e31fad",
   "metadata": {
    "vscode": {
     "languageId": "sql"
    }
   },
   "outputs": [],
   "source": [
    "SELECT * FROM Camp_assignment A JOIN Camp_assignment B\n",
    "    ON A.Site = B.Site\n",
    "    AND (A.Start <= B.End) and (A.End >= B.Start)\n",
    "    AND A.Observer < B.Observer\n",
    "    WHERE A.Site = 'lkri';"
   ]
  },
  {
   "cell_type": "markdown",
   "id": "fc70334a",
   "metadata": {},
   "source": [
    "\n",
    "- Step 4. Clean up your table so it looks like this:\n",
    "\n",
    "```\n",
    "┌─────────┬────────────┬──────────────┐\n",
    "│  Site   │ Observer_1 │  Observer_2  │\n",
    "│ varchar │  varchar   │   varchar    │\n",
    "├─────────┼────────────┼──────────────┤\n",
    "│ lkri    │ apopovkina │ jloshchagina │\n",
    "│ lkri    │ apopovkina │ gsedash      │\n",
    "└─────────┴────────────┴──────────────┘\n",
    "```\n",
    "\n",
    "Submit your final SQL query.\n"
   ]
  },
  {
   "cell_type": "code",
   "execution_count": null,
   "id": "5f104825",
   "metadata": {
    "vscode": {
     "languageId": "sql"
    }
   },
   "outputs": [],
   "source": [
    "SELECT A.Site, A.Observer AS Observer_1, B.Observer AS Observer_2 \n",
    "    FROM Camp_assignment A JOIN Camp_assignment B\n",
    "    ON A.Site = B.Site\n",
    "    AND (A.Start <= B.End) and (A.End >= B.Start)\n",
    "    AND A.Observer < B.Observer\n",
    "    WHERE A.Site = 'lkri';"
   ]
  },
  {
   "cell_type": "markdown",
   "id": "e68f74d7",
   "metadata": {},
   "source": [
    "\n",
    "Credit: 20 points\n",
    "\n",
    "## Bonus problem!\n",
    "Produce this much nicer table by joining with the Personnel table:\n",
    "\n",
    "```\n",
    "┌─────────┬─────────────────────┬───────────────────┐\n",
    "│  Site   │       Name_1        │      Name_2       │\n",
    "│ varchar │       varchar       │      varchar      │\n",
    "├─────────┼─────────────────────┼───────────────────┤\n",
    "│ lkri    │ Anastasia Popovkina │ Gleb Sedash       │\n",
    "│ lkri    │ Anastasia Popovkina │ Julya Loshchagina │\n",
    "└─────────┴─────────────────────┴───────────────────┘\n",
    "```\n",
    "\n",
    "You’ll need to join with the Personnel table twice, once for each observer column. You may need give abbreviations to tables (e.g., JOIN Personnel AS p1) to distinguish the tables and columns. You can do it!\n",
    "\n",
    "Credit: 10 points"
   ]
  },
  {
   "cell_type": "code",
   "execution_count": null,
   "id": "0dc238e7",
   "metadata": {
    "vscode": {
     "languageId": "sql"
    }
   },
   "outputs": [],
   "source": [
    "SELECT Site, p1.Name AS Name_1, p2.Name AS Name_2 FROM \n",
    "    (SELECT A.Site, A.Observer AS Observer_1, B.Observer AS Observer_2 \n",
    "        FROM Camp_assignment A JOIN Camp_assignment B\n",
    "        ON A.Site = B.Site\n",
    "        AND (A.Start <= B.End) and (A.End >= B.Start)\n",
    "        AND A.Observer < B.Observer\n",
    "        WHERE A.Site = 'lkri')\n",
    "JOIN Personnel p1 ON Observer_1 = p1.Abbreviation \n",
    "JOIN Personnel p2 ON Observer_2 = p2.Abbreviation;"
   ]
  },
  {
   "cell_type": "markdown",
   "id": "3627ed9a",
   "metadata": {},
   "source": []
  }
 ],
 "metadata": {
  "kernelspec": {
   "display_name": "Ian",
   "language": "python",
   "name": "python3"
  },
  "language_info": {
   "codemirror_mode": {
    "name": "ipython",
    "version": 3
   },
   "file_extension": ".py",
   "mimetype": "text/x-python",
   "name": "python",
   "nbconvert_exporter": "python",
   "pygments_lexer": "ipython3",
   "version": "3.10.16"
  }
 },
 "nbformat": 4,
 "nbformat_minor": 5
}
