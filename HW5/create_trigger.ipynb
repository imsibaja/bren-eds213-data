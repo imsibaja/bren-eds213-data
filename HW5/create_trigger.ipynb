{
 "cells": [
  {
   "cell_type": "markdown",
   "id": "aef3426e",
   "metadata": {},
   "source": [
    "# Create your own trigger\n",
    "\n",
    "(The SQLite command is sqlite3. It’s already installed on the Bren servers. Installing it on your local machine, if you like, is similar to installing DuckDB.)\n",
    "\n",
    "The Bird_eggs table uniquely identifies each egg by a pair (Nest_ID, Egg_num). The egg numbers for a given nest always have the sequential values 1, 2, 3, 4, etc. For example, there are 3 eggs in nest 14eabaage01:\n",
    "\n",
    "```\n",
    "SELECT * FROM Bird_eggs WHERE Nest_ID = '14eabaage01';\n",
    "┌───────────┬──────┬──────┬─────────────┬─────────┬────────┬───────┐\n",
    "│ Book_page │ Year │ Site │   Nest_ID   │ Egg_num │ Length │ Width │\n",
    "├───────────┼──────┼──────┼─────────────┼─────────┼────────┼───────┤\n",
    "│ b14.6     │ 2014 │ eaba │ 14eabaage01 │ 1       │ 39.14  │ 33.0  │\n",
    "│ b14.6     │ 2014 │ eaba │ 14eabaage01 │ 2       │ 41.51  │ 33.39 │\n",
    "│ b14.6     │ 2014 │ eaba │ 14eabaage01 │ 3       │ 48.29  │ 33.4  │\n",
    "└───────────┴──────┴──────┴─────────────┴─────────┴────────┴───────┘\n",
    "```"
   ]
  },
  {
   "cell_type": "code",
   "execution_count": null,
   "id": "8e2d40ed",
   "metadata": {
    "vscode": {
     "languageId": "sql"
    }
   },
   "outputs": [],
   "source": [
    "sqlite3 database.sqlite\n",
    "SELECT * FROM Bird_eggs WHERE Nest_ID = '14eabaage01';"
   ]
  },
  {
   "cell_type": "markdown",
   "id": "d0da7676",
   "metadata": {},
   "source": [
    "\n",
    "\n",
    "\n",
    "## Part 1\n",
    "When inserting a new egg measurement, wouldn’t it be nice if the database just automatically filled in the next sequential egg number for us? Indeed, we can accomplish this with an AFTER INSERT trigger that does an UPDATE.\n",
    "\n",
    "The schema for the database has been modified for this exercise so that Egg_num can be NULL and furthermore has a default value of NULL. This means we can insert a row without supplying an egg number. For example, we might say:\n",
    "\n",
    "```\n",
    "INSERT INTO Bird_eggs\n",
    "    (Book_page, Year, Site, Nest_ID, Length, Width)\n",
    "    VALUES ('b14.6', 2014, 'eaba', '14eabaage01', 12.34, 56.78);\n",
    "```\n",
    "\n",
    "If this were the first egg measurement for this particular nest, immediately after the insert we would see:\n",
    "```\n",
    ".nullvalue -NULL-\n",
    "SELECT * FROM Bird_eggs WHERE Nest_ID = '14eabaage01';\n",
    "┌───────────┬──────┬──────┬─────────────┬─────────┬────────┬───────┐\n",
    "│ Book_page │ Year │ Site │   Nest_ID   │ Egg_num │ Length │ Width │\n",
    "├───────────┼──────┼──────┼─────────────┼─────────┼────────┼───────┤\n",
    "│ b14.6     │ 2014 │ eaba │ 14eabaage01 │ -NULL-  │ 12.34  │ 56.78 │\n",
    "└───────────┴──────┴──────┴─────────────┴─────────┴────────┴───────┘\n",
    "```\n",
    "\n",
    "If there were already some egg measurements for this nest (as in fact there are), immediately after the insert we would see:\n",
    "```\n",
    ".nullvalue -NULL-\n",
    "SELECT * FROM Bird_eggs WHERE Nest_ID = '14eabaage01';\n",
    "┌───────────┬──────┬──────┬─────────────┬─────────┬────────┬───────┐\n",
    "│ Book_page │ Year │ Site │   Nest_ID   │ Egg_num │ Length │ Width │\n",
    "├───────────┼──────┼──────┼─────────────┼─────────┼────────┼───────┤\n",
    "│ b14.6     │ 2014 │ eaba │ 14eabaage01 │ 1       │ 39.14  │ 33.0  │\n",
    "│ b14.6     │ 2014 │ eaba │ 14eabaage01 │ 2       │ 41.51  │ 33.39 │\n",
    "│ b14.6     │ 2014 │ eaba │ 14eabaage01 │ 3       │ 48.29  │ 33.4  │\n",
    "│ b14.6     │ 2014 │ eaba │ 14eabaage01 │ -NULL-  │ 12.34  │ 56.78 │\n",
    "└───────────┴──────┴──────┴─────────────┴─────────┴────────┴───────┘\n",
    "```\n",
    "Your job is to create a trigger that will fire an UPDATE statement that will fill in a value for Egg_num in either situation above.\n",
    "\n",
    "Your trigger will have the form\n",
    "\n",
    "```\n",
    "CREATE TRIGGER egg_filler\n",
    "    AFTER INSERT ON Bird_eggs\n",
    "    FOR EACH ROW\n",
    "    BEGIN\n",
    "        UPDATE ...;\n",
    "    END;\n",
    "```\n",
    "\n",
    "A word of warning. Notice the two semicolons above: the UPDATE statement must be terminated by a semicolon, and the CREATE TRIGGER statement must be terminated by a semicolon.\n",
    "\n",
    "The crux is in the UPDATE statement. Recall from class that in your UPDATE statement you can refer to the values just inserted as new.Book_page, new.Year, new.Site, new.Nest_ID, etc. For example, using the INSERT above, new.Nest_ID will have the value ‘14eabaage01’ and new.Length will have the value 12.34. You need to figure out:\n",
    "\n",
    "What column(s) to update. Well that’s easy, it’s just Egg_num.\n",
    "\n",
    "What Egg_num’s new value should be. Hint: the value can be computed from a SELECT statement. What SELECT statement could you use that will return the right value to use as the next sequential egg number?\n",
    "\n",
    "What row(s) to modify. Well, you want to modify just one row, the row that was just inserted. What WHERE clause could you use to identify this brand-new row? It has a unique signature.\n",
    "\n",
    "You can try out your trigger by creating it, doing an INSERT, and then seeing what the rows for that particular nest look like. If your trigger doesn’t work for some reason, you may need to DROP TRIGGER egg_filler; before creating it again. As before, you will probably find it convenient to write your trigger code in a separate file, and load it into SQLite using the .read built-in command.\n",
    "\n",
    "Please submit your SQL.\n"
   ]
  },
  {
   "cell_type": "code",
   "execution_count": null,
   "id": "77924eb7",
   "metadata": {
    "vscode": {
     "languageId": "sql"
    }
   },
   "outputs": [],
   "source": [
    "DROP TRIGGER egg_filler;"
   ]
  },
  {
   "cell_type": "code",
   "execution_count": null,
   "id": "d194461e",
   "metadata": {
    "vscode": {
     "languageId": "sql"
    }
   },
   "outputs": [],
   "source": [
    "CREATE TRIGGER egg_filler\n",
    "AFTER INSERT ON Bird_eggs\n",
    "FOR EACH ROW\n",
    "BEGIN\n",
    "    UPDATE Bird_eggs\n",
    "    SET Egg_num = (\n",
    "        SELECT IFNULL(MAX(Egg_num), 0) + 1\n",
    "        FROM Bird_eggs\n",
    "        WHERE Nest_ID = new.Nest_ID\n",
    "    )\n",
    "    WHERE rowid = new.rowid;\n",
    "END;"
   ]
  },
  {
   "cell_type": "code",
   "execution_count": null,
   "id": "a689e5e2",
   "metadata": {
    "vscode": {
     "languageId": "sql"
    }
   },
   "outputs": [],
   "source": [
    "INSERT INTO Bird_eggs\n",
    "    (Book_page, Year, Site, Nest_ID, Length, Width)\n",
    "    VALUES ('b14.6', 2014, 'eaba', '14eabaage01', 12.34, 56.78);\n",
    "\n",
    "SELECT * FROM Bird_eggs WHERE Nest_ID = '14eabaage01';"
   ]
  },
  {
   "cell_type": "code",
   "execution_count": null,
   "id": "a423186b",
   "metadata": {
    "vscode": {
     "languageId": "sql"
    }
   },
   "outputs": [],
   "source": [
    "INSERT INTO Bird_eggs\n",
    "    (Book_page, Year, Site, Nest_ID, Length, Width)\n",
    "    VALUES ('b14.6', 2014, 'eaba', 'heyyy', 12.34, 56.78);\n",
    "\n",
    "SELECT * FROM Bird_eggs WHERE Nest_ID = 'heyyy';"
   ]
  },
  {
   "cell_type": "markdown",
   "id": "8ab4a1c0",
   "metadata": {},
   "source": [
    "\n",
    "## Part 2\n",
    "Why stop there? Recall that Book_page, Year, and Site all duplicate the information from the Bird_nests table. Wouldn’t it be nice if the database automatically filled in those values as well? Then we could just say:\n",
    "\n",
    "```\n",
    "INSERT INTO Bird_eggs\n",
    "    (Nest_ID, Length, Width)\n",
    "    VALUES ('14eabaage01', 12.34, 56.78);\n",
    "```\n",
    "\n",
    "This can be accomplished by augmenting your previous trigger. Two options. One, you can add more UPDATE statements:\n",
    "\n",
    "```\n",
    "CREATE TRIGGER egg_filler\n",
    "    AFTER INSERT ON Bird_eggs\n",
    "    FOR EACH ROW\n",
    "    BEGIN\n",
    "        UPDATE Bird_eggs SET Egg_num = (SELECT...) WHERE...;\n",
    "        UPDATE Bird_eggs SET Book_page = (SELECT...) WHERE...;\n",
    "        UPDATE Bird_eggs SET Year = (SELECT...) WHERE...;\n",
    "        etc.\n",
    "    END;\n",
    "```\n",
    "\n",
    "Or two, you can add more clauses to a single UPDATE statement:\n",
    "\n",
    "```\n",
    "CREATE TRIGGER egg_filler\n",
    "    AFTER INSERT ON Bird_eggs\n",
    "    FOR EACH ROW\n",
    "    BEGIN\n",
    "        UPDATE Bird_eggs\n",
    "            SET\n",
    "                Egg_num = (SELECT...),\n",
    "                Book_page = (SELECT...),\n",
    "                Year = (SELECT...),\n",
    "                etc.\n",
    "            WHERE ...;\n",
    "    END;\n",
    "```\n",
    "\n",
    "(Honestly, this is not the most compact or efficient SQL, but sometimes it’s better sticking with a simple and understandable approach.)\n",
    "\n",
    "You need to figure out what SELECT statements to use to find the values to insert. That is, given that you can reference new.Nest_ID, new.Length, and new.Width, what SELECT statements could you use to find the correct values for Book_page, Year, and Nest_ID?\n",
    "\n",
    "Try out your trigger, marvel at what you have automated, and submit your SQL.\n"
   ]
  },
  {
   "cell_type": "code",
   "execution_count": null,
   "id": "1e4904b5",
   "metadata": {
    "vscode": {
     "languageId": "sql"
    }
   },
   "outputs": [],
   "source": [
    "DROP TRIGGER egg_filler;"
   ]
  },
  {
   "cell_type": "code",
   "execution_count": null,
   "id": "b55b2e83",
   "metadata": {
    "vscode": {
     "languageId": "sql"
    }
   },
   "outputs": [],
   "source": [
    "CREATE TRIGGER egg_filler\n",
    "AFTER INSERT ON Bird_eggs\n",
    "FOR EACH ROW\n",
    "BEGIN\n",
    "    UPDATE Bird_eggs \n",
    "        SET \n",
    "        Egg_num = (\n",
    "            SELECT IFNULL(MAX(Egg_num), 0) + 1\n",
    "            FROM Bird_eggs\n",
    "            WHERE Nest_ID = new.Nest_ID\n",
    "            ),\n",
    "        Book_page = (\n",
    "            SELECT Book_page\n",
    "            FROM Bird_nests \n",
    "            WHERE Nest_ID = new.Nest_ID\n",
    "            ),\n",
    "        Year = (\n",
    "            SELECT Year \n",
    "            FROM Bird_nests \n",
    "            WHERE Nest_ID = NEW.Nest_ID\n",
    "            ),\n",
    "        Site = (\n",
    "            SELECT Site \n",
    "            FROM Bird_nests \n",
    "            WHERE Nest_ID = NEW.Nest_ID\n",
    "            )  \n",
    "    WHERE rowid = NEW.rowid;\n",
    "END;"
   ]
  },
  {
   "cell_type": "code",
   "execution_count": null,
   "id": "d0568791",
   "metadata": {
    "vscode": {
     "languageId": "sql"
    }
   },
   "outputs": [],
   "source": [
    "INSERT INTO Bird_eggs\n",
    "    (Nest_ID, Length, Width)\n",
    "    VALUES ('14eabaage01', 12.34, 56.78);"
   ]
  },
  {
   "cell_type": "code",
   "execution_count": null,
   "id": "39bc9177",
   "metadata": {
    "vscode": {
     "languageId": "sql"
    }
   },
   "outputs": [],
   "source": [
    "SELECT * FROM Bird_eggs WHERE Nest_ID = '14eabaage01';"
   ]
  },
  {
   "cell_type": "markdown",
   "id": "736f8dd3",
   "metadata": {},
   "source": [
    "\n",
    "## Part 3\n",
    "Okay, there isn’t a part 3. But wouldn’t it be nice to be able to insert egg measurements even more compactly? That is, instead of having to say:\n",
    "\n",
    "```\n",
    "INSERT INTO Bird_eggs\n",
    "    (Nest_ID, Length, Width)\n",
    "    VALUES ('14eabaage01', 12.34, 56.78);\n",
    "```\n",
    "\n",
    "what if you could just say:\n",
    "\n",
    "```\n",
    "INSERT INTO Bird_eggs\n",
    "    VALUES ('14eabaage01', 12.34, 56.78);\n",
    "```\n",
    "\n",
    "Well you can do that! It involves creating a view and adding an INSTEAD OF INSERT trigger on the view. If there’s time I’ll show an example in class."
   ]
  }
 ],
 "metadata": {
  "language_info": {
   "name": "python"
  }
 },
 "nbformat": 4,
 "nbformat_minor": 5
}
