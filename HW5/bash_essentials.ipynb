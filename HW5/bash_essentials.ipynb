{
 "cells": [
  {
   "cell_type": "code",
   "execution_count": 14,
   "id": "892efe5e",
   "metadata": {},
   "outputs": [
    {
     "name": "stdout",
     "output_type": "stream",
     "text": [
      "/Users/ims/MEDS/eds213-data/bren-eds213-data/ASDN_csv\n"
     ]
    }
   ],
   "source": [
    "%cd ../ASDN_csv/"
   ]
  },
  {
   "cell_type": "markdown",
   "id": "5b56610f",
   "metadata": {},
   "source": [
    "1. Compare the output of these three commands:\n",
    "\n",
    "```bash\n",
    "ls\n",
    "ls .\n",
    "ls \"$(pwd)/../ASDN_csv\"\n",
    "```\n",
    "\n",
    "Explain why you see what you see."
   ]
  },
  {
   "cell_type": "code",
   "execution_count": 2,
   "id": "e5d49032",
   "metadata": {},
   "outputs": [
    {
     "name": "stdout",
     "output_type": "stream",
     "text": [
      "01_ASDN_Readme.txt        color_band_code.csv  snow_survey_fixed.csv\n",
      "ASDN_Camp_assignment.csv  personnel.csv        species.csv\n",
      "ASDN_Snow_survey.csv      site.csv\n",
      "\n",
      "01_ASDN_Readme.txt        color_band_code.csv  snow_survey_fixed.csv\n",
      "ASDN_Camp_assignment.csv  personnel.csv        species.csv\n",
      "ASDN_Snow_survey.csv      site.csv\n",
      "\n",
      "01_ASDN_Readme.txt        color_band_code.csv  snow_survey_fixed.csv\n",
      "ASDN_Camp_assignment.csv  personnel.csv        species.csv\n",
      "ASDN_Snow_survey.csv      site.csv\n"
     ]
    }
   ],
   "source": [
    "%ls\n",
    "print()\n",
    "%ls .\n",
    "print()\n",
    "%ls \"$(pwd)/../ASDN_csv\""
   ]
  },
  {
   "cell_type": "markdown",
   "id": "7245bd65",
   "metadata": {},
   "source": [
    "`ls` lists the files in the current directory, as does `ls .`\n",
    "\n",
    "`ls \"$(pwd)/../ASDN_csv\"` goes to the current directory with `$(pwd)`, up one level up with `..` and then back into `ASDN_csv` to list the files in that directory."
   ]
  },
  {
   "cell_type": "markdown",
   "id": "477c2249",
   "metadata": {},
   "source": [
    "\n",
    "2. Try the following two commands:\n",
    "\n",
    "```bash\n",
    "wc -l *.csv\n",
    "cat *.csv | wc -l\n",
    "```\n",
    "\n",
    "\n",
    "The first prints filenames and line counts. The second prints a bare number. Why does it print that number, and why does it not print any filenames?"
   ]
  },
  {
   "cell_type": "code",
   "execution_count": 3,
   "id": "e1d0fe18",
   "metadata": {},
   "outputs": [
    {
     "name": "stdout",
     "output_type": "stream",
     "text": [
      "    442 ASDN_Camp_assignment.csv\n",
      "  27937 ASDN_Snow_survey.csv\n",
      "     21 color_band_code.csv\n",
      "    270 personnel.csv\n",
      "     17 site.csv\n",
      "  22632 snow_survey_fixed.csv\n",
      "    100 species.csv\n",
      "  51419 total\n",
      "\n",
      "51419\n"
     ]
    }
   ],
   "source": [
    "!wc -l *.csv\n",
    "print()\n",
    "!cat *.csv | wc -l"
   ]
  },
  {
   "cell_type": "markdown",
   "id": "34ce72bd",
   "metadata": {},
   "source": [
    "`cat` concatenates multiple files into one, so calling `wc -l` on the output of `cat` will count the lines in all the files together. "
   ]
  },
  {
   "cell_type": "markdown",
   "id": "364d33e8",
   "metadata": {},
   "source": [
    "3. You want to count the total number of lines in all CSV files and try this command:\n",
    "\n",
    "```bash\n",
    "cat *.csv | wc -l species.csv\n",
    "```\n",
    "\n",
    "What happens and why?"
   ]
  },
  {
   "cell_type": "code",
   "execution_count": 4,
   "id": "56d66964",
   "metadata": {},
   "outputs": [
    {
     "name": "stdout",
     "output_type": "stream",
     "text": [
      "100 species.csv\n",
      "cat: write error: Broken pipe\n"
     ]
    }
   ],
   "source": [
    "!cat *.csv | wc -l species.csv"
   ]
  },
  {
   "cell_type": "markdown",
   "id": "334fc130",
   "metadata": {},
   "source": [
    "The pipe is broken due to the `species.csv` piped after `cat`. `wc` now has two inputs: one from `cat` command and the other from `species.csv`. It counts species first, closes the command, and then breaks as it is not able to read from `cat` command anymore."
   ]
  },
  {
   "cell_type": "markdown",
   "id": "56174381",
   "metadata": {},
   "source": [
    "\n",
    "4. You’re given\n",
    "\n",
    "```bash\n",
    "name=Moe\n",
    "```\n",
    "\n",
    "and you’d like to print “Moe_Howard”. You try this:\n",
    "\n",
    "```bash\n",
    "echo \"$name_Howard\"\n",
    "```\n",
    "\n",
    "but that doesn’t quite work. What fix can you apply to ```$name```, while keeping it inside the quotation marks, to make this command give the desired effect?\n"
   ]
  },
  {
   "cell_type": "code",
   "execution_count": 5,
   "id": "380954ed",
   "metadata": {},
   "outputs": [
    {
     "name": "stdout",
     "output_type": "stream",
     "text": [
      "\n"
     ]
    }
   ],
   "source": [
    "!name=Moe\n",
    "!echo \"$name_Howard\""
   ]
  },
  {
   "cell_type": "code",
   "execution_count": 6,
   "id": "dd460731",
   "metadata": {},
   "outputs": [
    {
     "name": "stdout",
     "output_type": "stream",
     "text": [
      "_Howard\n"
     ]
    }
   ],
   "source": [
    "!name=Moe\n",
    "!echo \"${name}_Howard\""
   ]
  },
  {
   "cell_type": "markdown",
   "id": "37b8a9b8",
   "metadata": {},
   "source": [
    "Curly brackets can be used around the variable name to print variable references in bash"
   ]
  },
  {
   "cell_type": "markdown",
   "id": "43a344cb",
   "metadata": {},
   "source": [
    "\n",
    "5. You create a script and run it like so:\n",
    "\n",
    "```bash\n",
    "bash myscript.sh *.csv\n",
    "```\n",
    "\n",
    "What are the values of variables ```$1``` and ```$#```? Explain why the script does not see just one argument passed to it.\n"
   ]
  },
  {
   "cell_type": "markdown",
   "id": "3d1be3b6",
   "metadata": {},
   "source": [
    "`$1` referes to the first argument passed to the script (the first csv file), where `$#` is the number of arguments."
   ]
  },
  {
   "cell_type": "markdown",
   "id": "a3b2e936",
   "metadata": {},
   "source": [
    "\n",
    "6. You create a script and run it like so:\n",
    "\n",
    "```bash\n",
    "bash myscript.sh \"$(date)\" $(date)\n",
    "```\n",
    "\n",
    "In your script, what is the value of variable ```$3```?\n"
   ]
  },
  {
   "cell_type": "markdown",
   "id": "ab2ec8c6",
   "metadata": {},
   "source": [
    "The value of variable `$3` is the second phrase from date, as it is unquoted"
   ]
  },
  {
   "cell_type": "markdown",
   "id": "2503bf05",
   "metadata": {},
   "source": [
    "\n",
    "7. Create a file you don’t care about (because you’re about to destroy it):\n",
    "\n",
    "```bash\n",
    "echo \"yo ho a line of text\" > junk_file.txt\n",
    "echo \"another line\" >> junk_file.txt\n",
    "```\n",
    "\n",
    "You want to sort the lines in this file, so you try:\n",
    "\n",
    "```bash\n",
    "sort junk_file.txt\n",
    "```\n",
    "\n",
    "Well that prints the lines in sorted order, but it doesn’t actually change the file. You recall section 7 and try:\n",
    "\n",
    "```bash\n",
    "sort junk_file.txt > junk_file.txt\n",
    "```\n",
    "\n",
    "What happens and why? How can you sort the lines in your file? (Hint: it involves creating a second file and using ```mv.```)\n"
   ]
  },
  {
   "cell_type": "code",
   "execution_count": 8,
   "id": "4400b852",
   "metadata": {},
   "outputs": [],
   "source": [
    "!echo \"yo ho a line of text\" > junk_file.txt\n",
    "!echo \"another line\" >> junk_file.txt"
   ]
  },
  {
   "cell_type": "code",
   "execution_count": 9,
   "id": "9f37748b",
   "metadata": {},
   "outputs": [
    {
     "name": "stdout",
     "output_type": "stream",
     "text": [
      "another line\n",
      "yo ho a line of text\n"
     ]
    }
   ],
   "source": [
    "!sort junk_file.txt"
   ]
  },
  {
   "cell_type": "code",
   "execution_count": 11,
   "id": "ee3a4e14",
   "metadata": {},
   "outputs": [],
   "source": [
    "!sort junk_file.txt > junk_file.txt"
   ]
  },
  {
   "cell_type": "code",
   "execution_count": 17,
   "id": "37e7bed8",
   "metadata": {},
   "outputs": [],
   "source": [
    "!cat junk_file.txt"
   ]
  },
  {
   "cell_type": "markdown",
   "id": "463777c7",
   "metadata": {},
   "source": [
    "When you run `sort junk_file.txt > junk_file.txt` you open but then immediatly empty the file. To avoid that, create a temporary file and use `mv` to place the sorted `junk_file.txt` (now temp file) into `junk_file.txt` again"
   ]
  },
  {
   "cell_type": "markdown",
   "id": "fd7ff7cf",
   "metadata": {},
   "source": [
    "\n",
    "8. You want to delete all files ending in ```.csv```, so you type (don’t actually try this):\n",
    "\n",
    "```bash\n",
    "rm * .csv\n",
    "```\n",
    "\n",
    "but as can be seen, your thumb accidentally hit the space bar and you got an extra space in there. What will ```rm``` do in this case?"
   ]
  },
  {
   "cell_type": "markdown",
   "id": "9f3918b1",
   "metadata": {},
   "source": [
    "since the `*` and `.csv` are separated, bash will attempt to delete all files first with `*`, then look for a file named `.csv` to delete."
   ]
  }
 ],
 "metadata": {
  "kernelspec": {
   "display_name": "Ian",
   "language": "python",
   "name": "python3"
  },
  "language_info": {
   "codemirror_mode": {
    "name": "ipython",
    "version": 3
   },
   "file_extension": ".py",
   "mimetype": "text/x-python",
   "name": "python",
   "nbconvert_exporter": "python",
   "pygments_lexer": "ipython3",
   "version": "3.10.16"
  }
 },
 "nbformat": 4,
 "nbformat_minor": 5
}
