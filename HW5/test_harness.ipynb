{
 "cells": [
  {
   "cell_type": "markdown",
   "id": "64f054cc",
   "metadata": {},
   "source": [
    "# Part 1\n",
    "A common task is to create a script — a “test harness” — that will allow you to test something (some code, an algorithm, a model, etc.) by running it repeatedly, perhaps under varying conditions. Example applications include machine learning using different hyperparameters and Monte Carlo simulation using different random seeds. In this assignment you will create a Bash script that will allow you to time how long it takes to run an SQL query. You will be using this script later in class to explore the performance effects of indexes, so hang on to it.\n",
    "\n",
    "Your script will be invoked like so:\n",
    "\n",
    "```\n",
    "% bash query_timer.sh label num_reps query db_file csv_file\n",
    "\n",
    "  Arguments:\n",
    "      label:    explanatory label that will be output\n",
    "      num_reps: number of repetitions\n",
    "      query:    SQL query to run\n",
    "      db_file:  database file\n",
    "      csv_file: CSV file to create or append to\n",
    "```\n",
    "\n",
    "For example, you might run:\n",
    "\n",
    "```\n",
    "% bash query_timer.sh with_index_a 1000 'SELECT COUNT(*) FROM Bird_nests' \\\n",
    "     database.db timings.csv\n",
    "```\n",
    "\n",
    "In this example your script would run the given query (i.e., SELECT COUNT(*) FROM Bird_nests) on the given database (database.db) 1000 times. If the total time that took was 3 seconds, your script will divide that time by the number of repetitions (1000) and compute that each DuckDB invocation took 0.003 seconds. Finally, your script will append the following record to the CSV tile timings.csv:\n",
    "\n",
    "```with_index_a,0.003```\n",
    "\n",
    "Conceptually, your script will look something like this (this is pseudocode):\n",
    "\n",
    "```\n",
    "get current time and store it\n",
    "loop num_reps times\n",
    "    duckdb db_file query\n",
    "end loop\n",
    "get current time\n",
    "compute elapsed time\n",
    "divide elapsed time by num_reps\n",
    "write output\n",
    "```\n",
    "\n",
    "I would like you to follow the above pseudocode because this exercise is fundamentally about using certain Bash features.\n",
    "\n",
    "(BTW, is this a fair way to time queries? Yes and no. Clearly it’s a bit unfair that we are counting the overhead of repeatedly firing up DuckDB and opening the database file. And there may be other processing going on on the machine that affects the wall-clock time that we’re measuring here. On the other hand, databases are almost always I/O-bound and not compute-bound, that is, their performance is primarily limited by the time it takes to read data into memory from disk, and because of that, wall-clock time can be a better measure than CPU time.)\n",
    "\n",
    "We’re doing this in Bash, so every one of these steps is a challenge (it is okay to hate Bash). So here are a lot of tips and hints:\n",
    "\n",
    "- Getting the current time: try ```date +%s``` or use the magic SECONDS variable (do a ```man bash``` to read about it).\n",
    "\n",
    "- Looping: see below.\n",
    "\n",
    "- In executing DuckDB, be sure to appropriately quote the query.\n",
    "\n",
    "- Computing elapsed time: use Bash arithmetic.\n",
    "\n",
    "- Division. Bash does not support floating point numbers, so you’ll have to use a helper program. Take yer pick depending on what’s available to you. Let’s say you want to divide 10 by 3 (you will want to reference variables in your computation, but here I’m just illustrating dividing two literal numbers). You might say something like:\n",
    "\n",
    "    - elapsed=$(echo \"scale=7; 10/3\" | bc)\n",
    "    - elapsed=$(echo \"10/3\" | awk -F / '{print $1/$2}')\n",
    "    - elapsed=$(python -c \"print(10/3)\")\n",
    "    - elapsed=$(perl -l -e \"print 10/3\")\n",
    "\n",
    "- Output: be sure to use the appropriate I/O redirection.\n",
    "\n",
    "Two approaches to looping. If you want to do something 10 times, you can use a while loop that increments a counter:\n",
    "\n",
    "```\n",
    "i=0\n",
    "while [ $i -lt 10 ]; do\n",
    "    echo \"this is loop iteration $i\"\n",
    "    i=$((i+1))\n",
    "done\n",
    "```\n",
    "\n",
    "Or, you can use `seq`. Generally you can use a for loop to loop through a list of items like so:\n",
    "\n",
    "```\n",
    "for i in 0 1 2 3 4 5 6 7 8 9; do\n",
    "    echo \"this is loop iteration $i\"\n",
    "done\n",
    "```\n",
    "\n",
    "But you can use `seq` to generate a list of numbers of a desired length:\n",
    "\n",
    "```\n",
    "for i in $(seq 10); do\n",
    "    echo \"this is loop iteration $i\"\n",
    "done\n",
    "```\n",
    "\n",
    "And some more advice. The reason for making the number of repetitions an argument to this script, as opposed to a fixed constant, is that you may have to adjust the number of repetitions depending how fast the query is. The `date` command and SECONDS variable have a resolution of only 1 second, so if running the query 10 times still fits in under 1 second your elapsed time will show up as 0. You may need to run a query 100 or 1000 times or more to get positive elapsed times, and to get more precision.\n",
    "\n",
    "Also, we don’t actually care about the output from the query here. I would keep the output while you’re debugging your script (so that you can verify that DuckDB is being run repeatedly), but once you feel your script is working you can redirect DuckDB’s output and error streams to /dev/null.\n",
    "\n",
    "Finally, it is highly recommended that you upload your script to https://www.shellcheck.net. You’re not required to follow its advice, but I have found its advice to be enlightening.\n",
    "\n",
    "Please submit your Bash script."
   ]
  },
  {
   "cell_type": "raw",
   "id": "1cd6f911",
   "metadata": {
    "vscode": {
     "languageId": "raw"
    }
   },
   "source": [
    "get current time and store it\n",
    "loop num_reps times\n",
    "    duckdb db_file query\n",
    "end loop\n",
    "get current time\n",
    "compute elapsed time\n",
    "divide elapsed time by num_reps\n",
    "write output"
   ]
  },
  {
   "cell_type": "raw",
   "id": "fb213c5b",
   "metadata": {
    "vscode": {
     "languageId": "raw"
    }
   },
   "source": [
    "bash query_timer.sh label num_reps query db_file csv_file"
   ]
  },
  {
   "cell_type": "raw",
   "id": "cfe5adf6",
   "metadata": {
    "vscode": {
     "languageId": "raw"
    }
   },
   "source": [
    "#!/bin/bash\n",
    "\n",
    "label=\"$1\"\n",
    "num_reps=\"$2\"\n",
    "query=\"$3\"\n",
    "db_file=\"$4\"\n",
    "csv_file=\"$5\"\n",
    "\n",
    "start_time=$(date +%s)\n",
    "\n",
    "for i in $(seq \"$num_reps\"); do\n",
    "    duckdb \"$db_file\" \"$query\" \n",
    "done\n",
    "\n",
    "end_time=$(date +%s)\n",
    "\n",
    "elapsed=$((end_time - start_time))\n",
    "\n",
    "avg=$(python3 -c \"print($elapsed / $num_reps)\")\n",
    "\n",
    "echo \"$label,$avg\" >> \"$csv_file\"\n"
   ]
  },
  {
   "cell_type": "raw",
   "id": "113258a3",
   "metadata": {
    "vscode": {
     "languageId": "raw"
    }
   },
   "source": [
    "nano query_timer.sh"
   ]
  },
  {
   "cell_type": "markdown",
   "id": "6680a3aa",
   "metadata": {},
   "source": [
    "\n",
    "# Part 2\n",
    "\n",
    "In class we looked at three ways to find out which species we do not have nest data for. Method using NOT IN:\n",
    "\n",
    "```\n",
    "SELECT Code\n",
    "    FROM Species\n",
    "    WHERE Code NOT IN (SELECT DISTINCT Species FROM Bird_nests);\n",
    "```\n",
    "\n",
    "Method using an outer join:\n",
    "\n",
    "```\n",
    "SELECT Code\n",
    "    FROM Bird_nests RIGHT JOIN Species\n",
    "    ON Species = Code\n",
    "    WHERE Nest_ID IS NULL;\n",
    "```\n",
    "\n",
    "Method using a set operation:\n",
    "\n",
    "```\n",
    "SELECT Code FROM Species\n",
    "EXCEPT\n",
    "SELECT DISTINCT Species FROM Bird_nests;\n",
    "```\n",
    "\n",
    "Use your test harness to time these three queries. Use descriptive labels to record which query is being run, e.g., subquery, outer_join, and except. Submit your CSV file. Report back how many repetitions you had to use to get good timings, and which method is fastest."
   ]
  },
  {
   "cell_type": "raw",
   "id": "fbe0cdc3",
   "metadata": {
    "vscode": {
     "languageId": "raw"
    }
   },
   "source": [
    "bash query_timer.sh with_index_a 1000 'SELECT COUNT(*) FROM Bird_nests' \\\n",
    "     database.db timings.csv"
   ]
  },
  {
   "cell_type": "raw",
   "id": "a9183577",
   "metadata": {
    "vscode": {
     "languageId": "raw"
    }
   },
   "source": [
    "bash query_timer.sh subquery 1000 'SELECT Code\n",
    "    FROM Bird_nests RIGHT JOIN Species\n",
    "    ON Species = Code\n",
    "    WHERE Nest_ID IS NULL;' \\\n",
    "     database.db timings.csv"
   ]
  },
  {
   "cell_type": "raw",
   "id": "4cf16237",
   "metadata": {
    "vscode": {
     "languageId": "raw"
    }
   },
   "source": [
    "bash query_timer.sh outer_join 1000 'SELECT Code\n",
    "    FROM Species\n",
    "    WHERE Code NOT IN (SELECT DISTINCT Species FROM Bird_nests);' \\\n",
    "     database.db timings.csv"
   ]
  },
  {
   "cell_type": "raw",
   "id": "9c915503",
   "metadata": {
    "vscode": {
     "languageId": "raw"
    }
   },
   "source": [
    "bash query_timer.sh except 1000 'SELECT Code FROM Species\n",
    "EXCEPT\n",
    "SELECT DISTINCT Species FROM Bird_nests;' \\\n",
    "     database.db timings.csv"
   ]
  },
  {
   "cell_type": "markdown",
   "id": "19d10820",
   "metadata": {},
   "source": []
  }
 ],
 "metadata": {
  "kernelspec": {
   "display_name": "Ian",
   "language": "python",
   "name": "python3"
  },
  "language_info": {
   "codemirror_mode": {
    "name": "ipython",
    "version": 3
   },
   "file_extension": ".py",
   "mimetype": "text/x-python",
   "name": "python",
   "nbconvert_exporter": "python",
   "pygments_lexer": "ipython3",
   "version": "3.10.16"
  }
 },
 "nbformat": 4,
 "nbformat_minor": 5
}
